{
  "cells": [
    {
      "cell_type": "markdown",
      "metadata": {
        "id": "HAva8TnYFtFu"
      },
      "source": [
        "# Contents and why we need this lab\n",
        "\n",
        "This lab is about implementing neural networks yourself before we start using other frameworks that hide some of the computation from you. It builds on the first lab, where you derived the equations for neural network forward and backward propagation and gradient descent parameter updates.\n",
        "\n",
        "All the frameworks for deep learning you will meet from now on use automatic differentiation (autodiff), so you do not have to code the backward step yourself. In this version of this lab, you will develop your own autodif implementation. We also have an optional [version](https://github.com/DeepLearningDTU/02456-deep-learning-with-PyTorch/blob/master/2_Feedforward_Python/2.2-FNN-NumPy.ipynb) of this lab where you have to code the backward pass explicitly in Numpy."
      ]
    },
    {
      "cell_type": "markdown",
      "metadata": {
        "id": "sCa7HzwpFtFy"
      },
      "source": [
        "# External sources of information\n",
        "\n",
        "1. Jupyter notebook. You can find more information about Jupyter notebooks [here](https://jupyter.org/). It will come as part of the [Anaconda](https://www.anaconda.com/) Python installation.\n",
        "2. [NumPy](https://numpy.org/). Part of Anaconda distribution.  If you already know how to program, most things about Python and NumPy can be found with Google searches.\n",
        "3. [Nanograd](https://github.com/rasmusbergpalm/nanograd) is a minimalistic version of autodiff developed by Rasmus Berg Palm that we use for our framework.\n"
      ]
    },
    {
      "cell_type": "markdown",
      "metadata": {
        "id": "1SjiIp-TFtF0"
      },
      "source": [
        "# This notebook will follow the next steps:\n",
        "\n",
        "1. Nanograd automatic differentiation framework\n",
        "2. Finite difference method\n",
        "3. Data generation\n",
        "4. Defining and initializing the network\n",
        "5. Forward pass\n",
        "6. Training loop\n",
        "7. Testing your model\n",
        "8. Further extensions"
      ]
    },
    {
      "cell_type": "markdown",
      "metadata": {
        "id": "OyXeAA-HuT7s"
      },
      "source": [
        "# Nanograd automatic differention framework"
      ]
    },
    {
      "cell_type": "markdown",
      "metadata": {
        "id": "k6UWKCLKubgA"
      },
      "source": [
        "The [Nanograd](https://github.com/rasmusbergpalm/nanograd) framework defines a class Var which both holds a value and gradient value that we can use to store the intermediate values when we apply the chain rule of differentiation."
      ]
    },
    {
      "cell_type": "code",
      "execution_count": 132,
      "metadata": {
        "id": "Jd4CoEBNzNWS"
      },
      "outputs": [],
      "source": [
        "# Copy and pasted from https://github.com/rasmusbergpalm/nanograd/blob/3a1bf9e9e724da813bfccf91a6f309abdade9f39/nanograd.py\n",
        "\n",
        "from math import exp, log\n",
        "\n",
        "class Var:\n",
        "    \"\"\"\n",
        "    A variable which holds a float and enables gradient computations.\n",
        "    \"\"\"\n",
        "\n",
        "    def __init__(self, val: float, grad_fn=lambda: []):\n",
        "        assert type(val) == float\n",
        "        self.v = val\n",
        "        self.grad_fn = grad_fn\n",
        "        self.grad = 0.0\n",
        "\n",
        "    def backprop(self, bp):\n",
        "        self.grad += bp\n",
        "        for input, grad in self.grad_fn():\n",
        "            input.backprop(grad * bp)\n",
        "\n",
        "    def backward(self):\n",
        "        self.backprop(1.0)\n",
        "\n",
        "    def __add__(self: 'Var', other: 'Var') -> 'Var':\n",
        "        return Var(self.v + other.v, lambda: [(self, 1.0), (other, 1.0)])\n",
        "\n",
        "    def __mul__(self: 'Var', other: 'Var') -> 'Var':\n",
        "        return Var(self.v * other.v, lambda: [(self, other.v), (other, self.v)])\n",
        "\n",
        "    def __pow__(self, power):\n",
        "        assert type(power) in {float, int}, \"power must be float or int\"\n",
        "        return Var(self.v ** power, lambda: [(self, power * self.v ** (power - 1))])\n",
        "\n",
        "    def __neg__(self: 'Var') -> 'Var':\n",
        "        return Var(-1.0) * self\n",
        "\n",
        "    def __sub__(self: 'Var', other: 'Var') -> 'Var':\n",
        "        return self + (-other)\n",
        "\n",
        "    def __truediv__(self: 'Var', other: 'Var') -> 'Var':\n",
        "        return self * other ** -1\n",
        "\n",
        "    def __repr__(self):\n",
        "        return \"Var(v=%.4f, grad=%.4f)\" % (self.v, self.grad)\n",
        "\n",
        "    def relu(self):\n",
        "        return Var(self.v if self.v > 0.0 else 0.0, lambda: [(self, 1.0 if self.v > 0.0 else 0.0)])\n",
        "\n",
        "    def identity(self):\n",
        "        return Var(self.v, lambda: [(self, 1.0)])\n",
        "\n",
        "    def tanh(self):\n",
        "        return Var(float(np.tanh(self.v)), lambda: [(self, float(1-np.tanh(self.v)**2))])\n",
        "\n",
        "    def sigmoid(self):\n",
        "        return Var(float(1/(1+np.exp(-self.v))), lambda: [(self, float(1/(1+np.exp(-self.v))*(1-1/(1+np.exp(-self.v)))))])\n",
        "\n",
        "    def exp(self):\n",
        "        return Var(exp(self.v), lambda: [(self, exp(self.v))])\n",
        "\n",
        "    def log(self):\n",
        "        return Var(log(self.v), lambda: [(self, self.v ** -1)])\n",
        "\n",
        "\n"
      ]
    },
    {
      "cell_type": "markdown",
      "metadata": {
        "id": "yDX67D6jzcte"
      },
      "source": [
        "A few examples illustrate how we can use this:"
      ]
    },
    {
      "cell_type": "code",
      "execution_count": 65,
      "metadata": {
        "colab": {
          "base_uri": "https://localhost:8080/"
        },
        "id": "xk6PeLc3zwPT",
        "outputId": "dfbe285e-7f52-49e9-f79f-3ea72ac72da5"
      },
      "outputs": [
        {
          "output_type": "stream",
          "name": "stdout",
          "text": [
            "Var(v=3.0000, grad=5.0000)\n",
            "Var(v=5.0000, grad=3.0000)\n",
            "Var(v=15.0000, grad=1.0000)\n"
          ]
        }
      ],
      "source": [
        "a = Var(3.0)\n",
        "b = Var(5.0)\n",
        "f = a * b\n",
        "\n",
        "f.backward()\n",
        "\n",
        "for v in [a, b, f]:\n",
        "    print(v)"
      ]
    },
    {
      "cell_type": "code",
      "execution_count": 66,
      "metadata": {
        "colab": {
          "base_uri": "https://localhost:8080/"
        },
        "id": "JmKhYgsY0g_o",
        "outputId": "b37ac289-67e0-463c-cb01-fe9d25286138"
      },
      "outputs": [
        {
          "output_type": "stream",
          "name": "stdout",
          "text": [
            "Var(v=3.0000, grad=14.0000)\n",
            "Var(v=5.0000, grad=3.0000)\n",
            "Var(v=15.0000, grad=1.0000)\n",
            "Var(v=9.0000, grad=3.0000)\n",
            "Var(v=27.0000, grad=1.0000)\n",
            "Var(v=42.0000, grad=1.0000)\n"
          ]
        }
      ],
      "source": [
        "a = Var(3.0)\n",
        "b = Var(5.0)\n",
        "c = a * b\n",
        "d = Var(9.0)\n",
        "e = a * d\n",
        "f = c + e\n",
        "\n",
        "f.backward()\n",
        "\n",
        "for v in [a, b, c, d, e, f]:\n",
        "    print(v)"
      ]
    },
    {
      "cell_type": "markdown",
      "metadata": {
        "id": "Fe3B6uEH140p"
      },
      "source": [
        "## Exercise a) What is being calculated?\n",
        "\n",
        "Explain briefly the output of the code? What is the expression we differentiate and with respect to what variables?"
      ]
    },
    {
      "cell_type": "markdown",
      "source": [
        "Answer :\n",
        "f is differentiated with respect to each previously defined variables that are used to compute f. a, b, f in the fisrt example and, a, b, c, d, e, f in the second example. For each variables, we have v, the value of the variable, and grad, the value of the gradient of f along this variable."
      ],
      "metadata": {
        "id": "hSfEOTNw2ssb"
      }
    },
    {
      "cell_type": "markdown",
      "metadata": {
        "id": "q8_Q0t2I3Ruj"
      },
      "source": [
        "## Exercise b) How does the backward function work?\n",
        "\n",
        "You need to understand how the backward function calculates the gradients. We can use the two examples above to help with that.\n",
        "\n",
        "Go through the following four steps and answer the questions on the way:\n",
        "\n",
        "1. We represent the two expressions as graphs as shown below. Fill in the missing expressions for the different derivatives.\n",
        "\n",
        "2. In the remainder consider the first expression. Make a schematic of the data structure which is generated when we define the expression for f.\n",
        "\n",
        "3. Then execute the backward function by hand to convince yourself that it indeed calculates the gradients with respect to the variables.\n",
        "\n",
        "4. Write down the sequence of calls to backprop."
      ]
    },
    {
      "cell_type": "markdown",
      "source": [
        "Answer:\n",
        "1. See below.\n",
        "2.  f (Var)\n",
        "\n",
        "      |\n",
        "\n",
        "      *\n",
        "\n",
        "    /\\\n",
        "\n",
        "a (Var)  b(Var)\n",
        "\n",
        "In this schematic, a, b, and f are Var instances, and * represents the multiplication operation. f is the result of the multiplication operation between a and b.\n",
        "\n",
        "3. and 4.\n",
        "After initialization, we have: <br>\n",
        "    a: v=3.0, grad=0.0 <br>\n",
        "    b: v=5.0, grad=0.0 <br>\n",
        "    f: v=15.0, grad=0.0 <br>\n",
        "\n",
        "During the initialization of f, the 'mul' function is called, saving the schematic above in the grad_fn argument of f.\n",
        "\n",
        "Then, backward is called, initiating the recursive calls of backprop.\n",
        "\n",
        "First, backprop is called with bp = 1, causing the gradient of f to become 1.\n",
        "\n",
        "Then, for a and b, backprop is called with bp = 5 and bp = 3, respectively. In this way, the grad argument of variable a becomes 5, and the grad argument of variable b becomes 3.\n",
        "\n",
        "Thus, backward calculates the gradients with respect to the variables f, a, and b.\n",
        "\n",
        "\n"
      ],
      "metadata": {
        "id": "4pid3-S-5xWm"
      }
    },
    {
      "cell_type": "code",
      "execution_count": 4,
      "metadata": {
        "id": "idGr71jYXl26"
      },
      "outputs": [],
      "source": [
        "# import logging\n",
        "import graphviz\n",
        "\n",
        "#logging.basicConfig(format='[%(levelname)s@%(name)s] %(message)s', level=logging.DEBUG)\n",
        "\n",
        "#graphviz.__version__, graphviz.version()"
      ]
    },
    {
      "cell_type": "code",
      "execution_count": 19,
      "metadata": {
        "colab": {
          "base_uri": "https://localhost:8080/",
          "height": 153
        },
        "id": "KPe30Q2QXzeG",
        "outputId": "766f76a5-2795-4a4d-b97d-10f78c929487"
      },
      "outputs": [
        {
          "output_type": "execute_result",
          "data": {
            "image/svg+xml": "<?xml version=\"1.0\" encoding=\"UTF-8\" standalone=\"no\"?>\n<!DOCTYPE svg PUBLIC \"-//W3C//DTD SVG 1.1//EN\"\n \"http://www.w3.org/Graphics/SVG/1.1/DTD/svg11.dtd\">\n<!-- Generated by graphviz version 2.43.0 (0)\n -->\n<!-- Title: first expression Pages: 1 -->\n<svg width=\"159pt\" height=\"98pt\"\n viewBox=\"0.00 0.00 159.00 98.00\" xmlns=\"http://www.w3.org/2000/svg\" xmlns:xlink=\"http://www.w3.org/1999/xlink\">\n<g id=\"graph0\" class=\"graph\" transform=\"scale(1 1) rotate(0) translate(4 94)\">\n<title>first expression</title>\n<polygon fill=\"white\" stroke=\"transparent\" points=\"-4,4 -4,-94 155,-94 155,4 -4,4\"/>\n<!-- a -->\n<g id=\"node1\" class=\"node\">\n<title>a</title>\n<ellipse fill=\"none\" stroke=\"black\" cx=\"18\" cy=\"-72\" rx=\"18\" ry=\"18\"/>\n<text text-anchor=\"middle\" x=\"18\" y=\"-68.3\" font-family=\"Times,serif\" font-size=\"14.00\">a</text>\n</g>\n<!-- f -->\n<g id=\"node2\" class=\"node\">\n<title>f</title>\n<ellipse fill=\"none\" stroke=\"black\" cx=\"133\" cy=\"-45\" rx=\"18\" ry=\"18\"/>\n<text text-anchor=\"middle\" x=\"133\" y=\"-41.3\" font-family=\"Times,serif\" font-size=\"14.00\">f</text>\n</g>\n<!-- a&#45;&gt;f -->\n<g id=\"edge1\" class=\"edge\">\n<title>a&#45;&gt;f</title>\n<path fill=\"none\" stroke=\"black\" d=\"M35.67,-68.02C54.03,-63.63 83.81,-56.51 105.4,-51.36\"/>\n<polygon fill=\"black\" stroke=\"black\" points=\"106.35,-54.73 115.26,-49 104.72,-47.92 106.35,-54.73\"/>\n<text text-anchor=\"middle\" x=\"75.5\" y=\"-66.8\" font-family=\"Times,serif\" font-size=\"14.00\">df/da=b</text>\n</g>\n<!-- b -->\n<g id=\"node3\" class=\"node\">\n<title>b</title>\n<ellipse fill=\"none\" stroke=\"black\" cx=\"18\" cy=\"-18\" rx=\"18\" ry=\"18\"/>\n<text text-anchor=\"middle\" x=\"18\" y=\"-14.3\" font-family=\"Times,serif\" font-size=\"14.00\">b</text>\n</g>\n<!-- b&#45;&gt;f -->\n<g id=\"edge2\" class=\"edge\">\n<title>b&#45;&gt;f</title>\n<path fill=\"none\" stroke=\"black\" d=\"M35.85,-20.94C51.73,-23.83 76.12,-28.59 97,-34 99.89,-34.75 102.9,-35.59 105.88,-36.47\"/>\n<polygon fill=\"black\" stroke=\"black\" points=\"105.13,-39.9 115.72,-39.5 107.19,-33.21 105.13,-39.9\"/>\n<text text-anchor=\"middle\" x=\"75.5\" y=\"-37.8\" font-family=\"Times,serif\" font-size=\"14.00\">df/db=a</text>\n</g>\n</g>\n</svg>\n",
            "text/plain": [
              "<graphviz.graphs.Digraph at 0x7c9a68143af0>"
            ]
          },
          "metadata": {},
          "execution_count": 19
        }
      ],
      "source": [
        "e1 = graphviz.Digraph('first expression', filename='fsm.gv')\n",
        "\n",
        "e1.attr(rankdir='LR', size='8,5')\n",
        "\n",
        "e1.attr('node', shape='circle')\n",
        "e1.edge('a', 'f', label='df/da=b')\n",
        "e1.edge('b', 'f', label='df/db=a')\n",
        "\n",
        "e1"
      ]
    },
    {
      "cell_type": "code",
      "execution_count": 21,
      "metadata": {
        "colab": {
          "base_uri": "https://localhost:8080/",
          "height": 233
        },
        "id": "0nittR-mZFeX",
        "outputId": "9de1bc0e-a6bf-44a8-98f0-a2e86461ca67"
      },
      "outputs": [
        {
          "output_type": "execute_result",
          "data": {
            "image/svg+xml": "<?xml version=\"1.0\" encoding=\"UTF-8\" standalone=\"no\"?>\n<!DOCTYPE svg PUBLIC \"-//W3C//DTD SVG 1.1//EN\"\n \"http://www.w3.org/Graphics/SVG/1.1/DTD/svg11.dtd\">\n<!-- Generated by graphviz version 2.43.0 (0)\n -->\n<!-- Title: second expression Pages: 1 -->\n<svg width=\"276pt\" height=\"158pt\"\n viewBox=\"0.00 0.00 276.00 158.00\" xmlns=\"http://www.w3.org/2000/svg\" xmlns:xlink=\"http://www.w3.org/1999/xlink\">\n<g id=\"graph0\" class=\"graph\" transform=\"scale(1 1) rotate(0) translate(4 154)\">\n<title>second expression</title>\n<polygon fill=\"white\" stroke=\"transparent\" points=\"-4,4 -4,-154 272,-154 272,4 -4,4\"/>\n<!-- a -->\n<g id=\"node1\" class=\"node\">\n<title>a</title>\n<ellipse fill=\"none\" stroke=\"black\" cx=\"18\" cy=\"-75\" rx=\"18\" ry=\"18\"/>\n<text text-anchor=\"middle\" x=\"18\" y=\"-71.3\" font-family=\"Times,serif\" font-size=\"14.00\">a</text>\n</g>\n<!-- c -->\n<g id=\"node2\" class=\"node\">\n<title>c</title>\n<ellipse fill=\"none\" stroke=\"black\" cx=\"135\" cy=\"-102\" rx=\"18\" ry=\"18\"/>\n<text text-anchor=\"middle\" x=\"135\" y=\"-98.3\" font-family=\"Times,serif\" font-size=\"14.00\">c</text>\n</g>\n<!-- a&#45;&gt;c -->\n<g id=\"edge1\" class=\"edge\">\n<title>a&#45;&gt;c</title>\n<path fill=\"none\" stroke=\"black\" d=\"M35.97,-78.98C54.76,-83.4 85.31,-90.57 107.31,-95.73\"/>\n<polygon fill=\"black\" stroke=\"black\" points=\"106.8,-99.21 117.34,-98.09 108.4,-92.39 106.8,-99.21\"/>\n<text text-anchor=\"middle\" x=\"76.5\" y=\"-96.8\" font-family=\"Times,serif\" font-size=\"14.00\">dc/da=b</text>\n</g>\n<!-- e -->\n<g id=\"node4\" class=\"node\">\n<title>e</title>\n<ellipse fill=\"none\" stroke=\"black\" cx=\"135\" cy=\"-48\" rx=\"18\" ry=\"18\"/>\n<text text-anchor=\"middle\" x=\"135\" y=\"-44.3\" font-family=\"Times,serif\" font-size=\"14.00\">e</text>\n</g>\n<!-- a&#45;&gt;e -->\n<g id=\"edge3\" class=\"edge\">\n<title>a&#45;&gt;e</title>\n<path fill=\"none\" stroke=\"black\" d=\"M35.28,-69.49C41.14,-67.61 47.83,-65.58 54,-64 71.5,-59.51 91.43,-55.53 107.01,-52.65\"/>\n<polygon fill=\"black\" stroke=\"black\" points=\"107.8,-56.07 117.03,-50.85 106.56,-49.18 107.8,-56.07\"/>\n<text text-anchor=\"middle\" x=\"76.5\" y=\"-67.8\" font-family=\"Times,serif\" font-size=\"14.00\">de/da=d</text>\n</g>\n<!-- f -->\n<g id=\"node6\" class=\"node\">\n<title>f</title>\n<ellipse fill=\"none\" stroke=\"black\" cx=\"250\" cy=\"-75\" rx=\"18\" ry=\"18\"/>\n<text text-anchor=\"middle\" x=\"250\" y=\"-71.3\" font-family=\"Times,serif\" font-size=\"14.00\">f</text>\n</g>\n<!-- c&#45;&gt;f -->\n<g id=\"edge5\" class=\"edge\">\n<title>c&#45;&gt;f</title>\n<path fill=\"none\" stroke=\"black\" d=\"M152.67,-98.02C171.03,-93.63 200.81,-86.51 222.4,-81.36\"/>\n<polygon fill=\"black\" stroke=\"black\" points=\"223.35,-84.73 232.26,-79 221.72,-77.92 223.35,-84.73\"/>\n<text text-anchor=\"middle\" x=\"192.5\" y=\"-96.8\" font-family=\"Times,serif\" font-size=\"14.00\">df/dc=1</text>\n</g>\n<!-- b -->\n<g id=\"node3\" class=\"node\">\n<title>b</title>\n<ellipse fill=\"none\" stroke=\"black\" cx=\"18\" cy=\"-132\" rx=\"18\" ry=\"18\"/>\n<text text-anchor=\"middle\" x=\"18\" y=\"-128.3\" font-family=\"Times,serif\" font-size=\"14.00\">b</text>\n</g>\n<!-- b&#45;&gt;c -->\n<g id=\"edge2\" class=\"edge\">\n<title>b&#45;&gt;c</title>\n<path fill=\"none\" stroke=\"black\" d=\"M35.97,-127.57C54.85,-122.65 85.58,-114.63 107.61,-108.88\"/>\n<polygon fill=\"black\" stroke=\"black\" points=\"108.54,-112.26 117.34,-106.35 106.78,-105.48 108.54,-112.26\"/>\n<text text-anchor=\"middle\" x=\"76.5\" y=\"-125.8\" font-family=\"Times,serif\" font-size=\"14.00\">dc/db=a</text>\n</g>\n<!-- e&#45;&gt;f -->\n<g id=\"edge6\" class=\"edge\">\n<title>e&#45;&gt;f</title>\n<path fill=\"none\" stroke=\"black\" d=\"M152.85,-50.94C168.73,-53.83 193.12,-58.59 214,-64 216.89,-64.75 219.9,-65.59 222.88,-66.47\"/>\n<polygon fill=\"black\" stroke=\"black\" points=\"222.13,-69.9 232.72,-69.5 224.19,-63.21 222.13,-69.9\"/>\n<text text-anchor=\"middle\" x=\"192.5\" y=\"-67.8\" font-family=\"Times,serif\" font-size=\"14.00\">df/de=1</text>\n</g>\n<!-- d -->\n<g id=\"node5\" class=\"node\">\n<title>d</title>\n<ellipse fill=\"none\" stroke=\"black\" cx=\"18\" cy=\"-18\" rx=\"18\" ry=\"18\"/>\n<text text-anchor=\"middle\" x=\"18\" y=\"-14.3\" font-family=\"Times,serif\" font-size=\"14.00\">d</text>\n</g>\n<!-- d&#45;&gt;e -->\n<g id=\"edge4\" class=\"edge\">\n<title>d&#45;&gt;e</title>\n<path fill=\"none\" stroke=\"black\" d=\"M36.03,-20.87C52.35,-23.8 77.59,-28.79 99,-35 102.17,-35.92 105.47,-36.99 108.72,-38.12\"/>\n<polygon fill=\"black\" stroke=\"black\" points=\"107.54,-41.41 118.13,-41.55 109.94,-34.83 107.54,-41.41\"/>\n<text text-anchor=\"middle\" x=\"76.5\" y=\"-38.8\" font-family=\"Times,serif\" font-size=\"14.00\">de/dd=a</text>\n</g>\n</g>\n</svg>\n",
            "text/plain": [
              "<graphviz.graphs.Digraph at 0x7c9a681426b0>"
            ]
          },
          "metadata": {},
          "execution_count": 21
        }
      ],
      "source": [
        "e2 = graphviz.Digraph('second expression', filename='fsm.gv')\n",
        "\n",
        "e2.attr(rankdir='LR', size='8,5')\n",
        "\n",
        "e2.attr('node', shape='circle')\n",
        "e2.edge('a', 'c', label='dc/da=b')\n",
        "e2.edge('b', 'c', label='dc/db=a')\n",
        "e2.edge('a', 'e', label='de/da=d')\n",
        "e2.edge('d', 'e', label='de/dd=a')\n",
        "e2.edge('c', 'f', label='df/dc=1')\n",
        "e2.edge('e', 'f', label='df/de=1')\n",
        "\n",
        "e2"
      ]
    },
    {
      "cell_type": "markdown",
      "metadata": {
        "id": "A5oi21W4gpeM"
      },
      "source": [
        "## Exercise c) What happens if we run backward again?\n",
        "\n",
        "Try to execute the code below. Explain what happens."
      ]
    },
    {
      "cell_type": "code",
      "execution_count": 7,
      "metadata": {
        "colab": {
          "base_uri": "https://localhost:8080/"
        },
        "id": "DCtpJyr-gyX1",
        "outputId": "f90b7ef9-feeb-494a-857e-cf999d133805"
      },
      "outputs": [
        {
          "output_type": "stream",
          "name": "stdout",
          "text": [
            "Var(v=3.0000, grad=28.0000)\n",
            "Var(v=5.0000, grad=6.0000)\n",
            "Var(v=15.0000, grad=2.0000)\n",
            "Var(v=9.0000, grad=6.0000)\n",
            "Var(v=27.0000, grad=2.0000)\n",
            "Var(v=42.0000, grad=2.0000)\n"
          ]
        }
      ],
      "source": [
        "f.backward()\n",
        "\n",
        "for v in [a, b, c, d, e, f]:\n",
        "    print(v)"
      ]
    },
    {
      "cell_type": "markdown",
      "source": [
        "Answer:\n",
        "\n",
        "First, backprop is called with bp=1. As a result, the gradient of f is incremented by 1 and becomes 2.\n",
        "\n",
        "Then, the backprop function is called recursively with the same parameters as before. However, this time, the initial gradients are not zeros, so the gradient is added once more to the gradient parameter of each variable, resulting in each variable having double the true gradient."
      ],
      "metadata": {
        "id": "M6lLj-RuROPW"
      }
    },
    {
      "cell_type": "markdown",
      "metadata": {
        "id": "e8bPVq2VhsP-"
      },
      "source": [
        "## Exercise d) Zero gradient\n",
        "\n",
        "We can zero the gradient by backpropagating a -1.0 as is shown in the example below. (If you have run backward multiple time then you also have to run the cell below an equal amount of times.) Explain what is going on."
      ]
    },
    {
      "cell_type": "code",
      "execution_count": 8,
      "metadata": {
        "colab": {
          "base_uri": "https://localhost:8080/"
        },
        "id": "OnyPDQx9lJe0",
        "outputId": "8d6bf623-ccd3-409c-8ff4-c5571f6ab219"
      },
      "outputs": [
        {
          "output_type": "stream",
          "name": "stdout",
          "text": [
            "Var(v=2.0000, grad=0.0000)\n",
            "Var(v=5.0000, grad=6.0000)\n",
            "Var(v=15.0000, grad=2.0000)\n",
            "Var(v=9.0000, grad=6.0000)\n",
            "Var(v=27.0000, grad=2.0000)\n",
            "Var(v=42.0000, grad=2.0000)\n",
            "Var(v=2.0000, grad=0.0000)\n",
            "Var(v=5.0000, grad=3.0000)\n",
            "Var(v=15.0000, grad=1.0000)\n",
            "Var(v=9.0000, grad=3.0000)\n",
            "Var(v=27.0000, grad=1.0000)\n",
            "Var(v=42.0000, grad=1.0000)\n"
          ]
        }
      ],
      "source": [
        "a = Var(2.0)\n",
        "\n",
        "for v in [a, b, c, d, e, f]:\n",
        "    print(v)\n",
        "\n",
        "f.backprop(-1.0)\n",
        "\n",
        "for v in [a, b, c, d, e, f]:\n",
        "    print(v)"
      ]
    },
    {
      "cell_type": "markdown",
      "source": [
        "Answer:\n",
        "\n",
        "First, the gradient of f is decremented by -1 and becomes 1.\n",
        "Then, the backprop function is called recursively with the same parameters as before except that the bp argument has the opposite sign. In this way, the gradient is subtracted from the gradient parameter of each variable, resulting in each variable having the true gradient again.\n"
      ],
      "metadata": {
        "id": "9IENnt0pT63s"
      }
    },
    {
      "cell_type": "markdown",
      "metadata": {
        "id": "U4057_ljNvWB"
      },
      "source": [
        "## Exercise e) Test correctness of derivatives with the finite difference method\n",
        "\n",
        "Write a small function that uses [the finite difference method](https://en.wikipedia.org/wiki/Finite_difference_method) to numerically test that backpropation implementation is working. In short we will use\n",
        "$$\n",
        "\\frac{\\partial f(a)}{\\partial a} \\approx \\frac{f(a+da)-f(a)}{da}\n",
        "$$\n",
        "for $da \\ll 1$.\n",
        "\n",
        "As an example, we could approximate the derivative of the function $f(a)=a^2$ in e.g. the value $a=4$ using the finite difference method. This amounts to inserting the relevant values and approximating the gradient $f'(4)$ with the fraction above.\n"
      ]
    },
    {
      "cell_type": "code",
      "execution_count": 76,
      "metadata": {
        "colab": {
          "base_uri": "https://localhost:8080/"
        },
        "id": "9TGil92lSXDN",
        "outputId": "6c08d9b2-ee9c-4a97-e099-48d2c648fdb2"
      },
      "outputs": [
        {
          "output_type": "stream",
          "name": "stdout",
          "text": [
            "Var(v=4.0000, grad=8.0000)\n",
            "Var(v=16.0000, grad=1.0000)\n",
            "8.000000661922968\n"
          ]
        }
      ],
      "source": [
        "# f function - try to change the code to test other types of functions as well (such as different polynomials etc.)\n",
        "def f_function(a):\n",
        "  a = Var(a)\n",
        "  f = a * a\n",
        "  f.backward()\n",
        "  return a,f\n",
        "\n",
        "for v in f_function(4.0):\n",
        "  print(v)\n",
        "\n",
        "# Insert your finite difference code here\n",
        "def finite_difference(a, da=1e-10):\n",
        "    \"\"\"\n",
        "    This function compute the finite difference between\n",
        "\n",
        "    Input:\n",
        "    a:           The point in which the finite difference is calculated. (float)\n",
        "    da:          The finite difference                           (float)\n",
        "\n",
        "    Output:\n",
        "    finite_difference: numerical approximation to the derivative (float)\n",
        "    \"\"\"\n",
        "\n",
        "    fa_da = (a+da)**2    # <- Insert correct expression\n",
        "    fa = a**2            # <- Insert correct expression\n",
        "\n",
        "    finite_difference = (fa_da - fa) / da\n",
        "\n",
        "    return finite_difference\n",
        "\n",
        "print(finite_difference(4.0))"
      ]
    },
    {
      "cell_type": "markdown",
      "metadata": {
        "id": "6pZar5RKaUkg"
      },
      "source": [
        "# Create an artificial dataset to play with\n",
        "\n",
        "We create a non-linear 1d regression task. The generator supports various noise levels and it creates train, validation and test sets. You can modify it yourself if you want more or less challenging tasks."
      ]
    },
    {
      "cell_type": "code",
      "execution_count": 10,
      "metadata": {
        "id": "Y6yfMAQ8aduj"
      },
      "outputs": [],
      "source": [
        "import numpy as np\n",
        "import matplotlib.pyplot as plt\n",
        "\n",
        "np.random.seed(42)"
      ]
    },
    {
      "cell_type": "code",
      "execution_count": 11,
      "metadata": {
        "id": "4YabfD43ajNh"
      },
      "outputs": [],
      "source": [
        "def data_generator(noise=0.1, n_samples=300, D1=True):\n",
        "    # Create covariates and response variable\n",
        "    if D1:\n",
        "        X = np.linspace(-3, 3, num=n_samples).reshape(-1,1) # 1-D\n",
        "        np.random.shuffle(X)\n",
        "        y = np.random.normal((0.5*np.sin(X[:,0]*3) + X[:,0]), noise) # 1-D with trend\n",
        "    else:\n",
        "        X = np.random.multivariate_normal(np.zeros(3), noise*np.eye(3), size = n_samples) # 3-D\n",
        "        np.random.shuffle(X)\n",
        "        y = np.sin(X[:,0]) - 5*(X[:,1]**2) + 0.5*X[:,2] # 3-D\n",
        "\n",
        "    # Stack them together vertically to split data set\n",
        "    data_set = np.vstack((X.T,y)).T\n",
        "\n",
        "    train, validation, test = np.split(data_set, [int(0.35*n_samples), int(0.7*n_samples)], axis=0)\n",
        "\n",
        "    # Standardization of the data, remember we do the standardization with the training set mean and standard deviation\n",
        "    train_mu = np.mean(train, axis=0)\n",
        "    train_sigma = np.std(train, axis=0)\n",
        "\n",
        "    train = (train-train_mu)/train_sigma\n",
        "    validation = (validation-train_mu)/train_sigma\n",
        "    test = (test-train_mu)/train_sigma\n",
        "\n",
        "    x_train, x_validation, x_test = train[:,:-1], validation[:,:-1], test[:,:-1]\n",
        "    y_train, y_validation, y_test = train[:,-1], validation[:,-1], test[:,-1]\n",
        "\n",
        "    return x_train, y_train,  x_validation, y_validation, x_test, y_test"
      ]
    },
    {
      "cell_type": "code",
      "execution_count": 12,
      "metadata": {
        "id": "u1oDngHLapIz"
      },
      "outputs": [],
      "source": [
        "D1 = True\n",
        "x_train, y_train,  x_validation, y_validation, x_test, y_test = data_generator(noise=0.5, D1=D1)"
      ]
    },
    {
      "cell_type": "code",
      "execution_count": 13,
      "metadata": {
        "colab": {
          "base_uri": "https://localhost:8080/",
          "height": 430
        },
        "id": "Ysfa3FsBavlm",
        "outputId": "1f7c5a9b-cd41-48ee-f499-2ae4700fe677"
      },
      "outputs": [
        {
          "output_type": "display_data",
          "data": {
            "text/plain": [
              "<Figure size 640x480 with 1 Axes>"
            ],
            "image/png": "[encoded data removed]"
          },
          "metadata": {}
        }
      ],
      "source": [
        "if D1:\n",
        "    plt.scatter(x_train[:,0], y_train);\n",
        "    plt.scatter(x_validation[:,0], y_validation);\n",
        "    plt.scatter(x_test[:,0], y_test);\n",
        "else:\n",
        "    plt.scatter(x_train[:,1], y_train);\n",
        "    plt.scatter(x_validation[:,1], y_validation);\n",
        "    plt.scatter(x_test[:,1], y_test);\n",
        "plt.show()"
      ]
    },
    {
      "cell_type": "code",
      "execution_count": 14,
      "metadata": {
        "id": "zac2HHNlgbpm"
      },
      "outputs": [],
      "source": [
        "# convert from nparray to Var\n",
        "def nparray_to_Var(x):\n",
        "  if x.ndim==1:\n",
        "    y = [[Var(float(x[i]))] for i in range(x.shape[0])] # always work with list of list\n",
        "  else:\n",
        "    y = [[Var(float(x[i,j])) for j in range(x.shape[1])] for i in range(x.shape[0])]\n",
        "  return y\n",
        "\n",
        "x_train = nparray_to_Var(x_train)\n",
        "y_train = nparray_to_Var(y_train)\n",
        "x_validation = nparray_to_Var(x_validation)\n",
        "y_validation = nparray_to_Var(y_validation)\n",
        "x_test = nparray_to_Var(x_test)\n",
        "y_test = nparray_to_Var(y_test)\n"
      ]
    },
    {
      "cell_type": "markdown",
      "metadata": {
        "id": "VbjrqcpVFtGe"
      },
      "source": [
        "# Defining and initializing the network\n",
        "\n",
        "The steps to create a feed forward neural network are the following:\n",
        "\n",
        "1. **Number of hidden layer and hidden units**. We have to define the number of hidden units in each layer. The number of features in X and the output dimensionality (the size of Y) are given but the numbers in between are set by the researcher. Remember that for each unit in each layer beside in the input has a bias term.\n",
        "2. **Activation functions** for each hidden layer. Each hidden layer in your list must have an activation function (it can also be the linear activation which is equivalent to identity function). The power of neural networks comes from non-linear activation functions that learn representations (features) from the data allowing us to learn from it.\n",
        "3. **Parameter initialization**. We will initialize the weights to have random values. This is done in practice by drawing pseudo random numbers from a Gaussian or uniform distribution. It turns out that for deeper models we have to be careful about how we scale the random numbers. This will be the topic of the exercise below. For now we will just use unit variance Gaussians.  \n",
        "\n",
        "In order to make life easier for ourselves we define a DenseLayer class that takes care of initialization and the forward pass. We can also extend it later with print and advanced initialization capabilities. For the latter we have introduced a Initializer class.\n",
        "\n",
        "Note that we use Sequence in the code below. A Sequence is an ordered list. This means the order we insert and access items are the same."
      ]
    },
    {
      "cell_type": "code",
      "execution_count": 15,
      "metadata": {
        "id": "ij_ieRsAt7Xt"
      },
      "outputs": [],
      "source": [
        "class Initializer:\n",
        "\n",
        "  def init_weights(self, n_in, n_out):\n",
        "    raise NotImplementedError\n",
        "\n",
        "  def init_bias(self, n_out):\n",
        "    raise NotImplementedError"
      ]
    },
    {
      "cell_type": "code",
      "execution_count": 16,
      "metadata": {
        "id": "eb18N5phuIha"
      },
      "outputs": [],
      "source": [
        "import random\n",
        "\n",
        "class NormalInitializer(Initializer):\n",
        "\n",
        "  def __init__(self, mean=0, std=0.1):\n",
        "    self.mean = mean\n",
        "    self.std = std\n",
        "\n",
        "  def init_weights(self, n_in, n_out):\n",
        "    return [[Var(random.gauss(self.mean, self.std)) for _ in range(n_out)] for _ in range(n_in)]\n",
        "\n",
        "  def init_bias(self, n_out):\n",
        "    return [Var(0.0) for _ in range(n_out)]\n",
        "\n",
        "class ConstantInitializer(Initializer):\n",
        "\n",
        "  def __init__(self, weight=1.0, bias=0.0):\n",
        "    self.weight = weight\n",
        "    self.bias = bias\n",
        "\n",
        "  def init_weights(self, n_in, n_out):\n",
        "    return [[Var(self.weight) for _ in range(n_out)] for _ in range(n_in)]\n",
        "\n",
        "  def init_bias(self, n_out):\n",
        "    return [Var(self.bias) for _ in range(n_out)]"
      ]
    },
    {
      "cell_type": "code",
      "execution_count": 141,
      "metadata": {
        "id": "jOLYGnZKuM6W"
      },
      "outputs": [],
      "source": [
        "from typing import Sequence\n",
        "\n",
        "class DenseLayer:\n",
        "    def __init__(self, n_in: int, n_out: int, act_fn, initializer = NormalInitializer()):\n",
        "        self.weights = initializer.init_weights(n_in, n_out)\n",
        "        self.bias = initializer.init_bias(n_out)\n",
        "        self.act_fn = act_fn\n",
        "\n",
        "    def __repr__(self):\n",
        "        return 'Weights: ' + repr(self.weights) + ' Biases: ' + repr(self.bias)\n",
        "\n",
        "    def parameters(self) -> Sequence[Var]:\n",
        "      params = []\n",
        "      for r in self.weights:\n",
        "        params += r\n",
        "\n",
        "      return params + self.bias\n",
        "\n",
        "    def forward(self, single_input: Sequence[Var]) -> Sequence[Var]:\n",
        "        # self.weights is a matrix with dimension n_in x n_out. We check that the dimensionality of the input\n",
        "        # to the current layer matches the number of nodes in the current layer\n",
        "        assert len(self.weights) == len(single_input), \"weights and single_input must match in first dimension\"\n",
        "        weights = self.weights\n",
        "        out = []\n",
        "        # For some given data point single_input, we now want to calculate the resulting value in each node in the current layer\n",
        "        # We therefore loop over the (number of) nodes in the current layer:\n",
        "        for j in range(len(weights[0])):\n",
        "            # Initialize the node value depending on its corresponding parameters.\n",
        "            node = self.bias[j] # <- Insert code\n",
        "            # We now finish the linear transformation corresponding to the parameters of the currently considered node.\n",
        "            for i in range(len(single_input)):\n",
        "                node += single_input[i] * weights[i][j] # <- Insert code\n",
        "            node = self.act_fn(node)\n",
        "            out.append(node)\n",
        "\n",
        "        return out"
      ]
    },
    {
      "cell_type": "markdown",
      "metadata": {
        "id": "jpIZPBpNI0pO"
      },
      "source": [
        "## Exercise f) Add more activation functions\n",
        "\n",
        "To have a full definition of the neural network, we must define an activation function for every layer. Several activation functions have been proposed and have different characteristics. In the Var class we have already defined the rectified linear init (relu).\n",
        "\n",
        "Implement the following activation functions in the Var class:\n",
        "\n",
        "* Identity: $$\\mathrm{identity}(x) = x$$\n",
        "* Hyperbolic tangent: $$\\tanh(x)$$\n",
        "* Sigmoid (or logistic function): $$\\mathrm{sigmoid}(x) = \\frac{1}{1.0 + \\exp(-x ) }$$  Hint: $\\mathrm{sigmoid}'(x)= \\mathrm{sigmoid}(x)(1-\\mathrm{sigmoid}(x))$.  \n",
        "\n",
        "Hint: You can seek inspiration in the relu method in the Var class."
      ]
    },
    {
      "cell_type": "markdown",
      "source": [
        "Answer: see above"
      ],
      "metadata": {
        "id": "ht_-kSFnfPV1"
      }
    },
    {
      "cell_type": "markdown",
      "metadata": {
        "id": "p_8n_SKnIW2F"
      },
      "source": [
        "## Exercise g) Complete the forward pass\n",
        "\n",
        "In the code below we initialize a 1-5-1 network and pass the training set through it. *The forward method in DenseLayer is **not** complete*. It just outputs zeros right now. The method forward should perform an [affine transformation](https://en.wikipedia.org/wiki/Affine_transformation) on the input followed by an application of the activation function."
      ]
    },
    {
      "cell_type": "code",
      "execution_count": 148,
      "metadata": {
        "colab": {
          "base_uri": "https://localhost:8080/"
        },
        "id": "xDEjtePxE7Mv",
        "outputId": "2a5285ff-db90-4611-a6fd-2db96d6d6387"
      },
      "outputs": [
        {
          "output_type": "stream",
          "name": "stdout",
          "text": [
            "[[Var(v=0.0000, grad=0.0000)], [Var(v=0.0000, grad=0.0000)], [Var(v=0.0000, grad=0.0000)], [Var(v=0.0269, grad=0.0000)], [Var(v=0.0000, grad=0.0000)], [Var(v=0.0000, grad=0.0000)], [Var(v=0.0000, grad=0.0000)], [Var(v=0.0065, grad=0.0000)], [Var(v=0.0277, grad=0.0000)], [Var(v=0.0000, grad=0.0000)], [Var(v=0.0000, grad=0.0000)], [Var(v=0.0171, grad=0.0000)], [Var(v=0.0000, grad=0.0000)], [Var(v=0.0195, grad=0.0000)], [Var(v=0.0000, grad=0.0000)], [Var(v=0.0000, grad=0.0000)], [Var(v=0.0000, grad=0.0000)], [Var(v=0.0000, grad=0.0000)], [Var(v=0.0000, grad=0.0000)], [Var(v=0.0000, grad=0.0000)], [Var(v=0.0128, grad=0.0000)], [Var(v=0.0056, grad=0.0000)], [Var(v=0.0000, grad=0.0000)], [Var(v=0.0000, grad=0.0000)], [Var(v=0.0075, grad=0.0000)], [Var(v=0.0202, grad=0.0000)], [Var(v=0.0000, grad=0.0000)], [Var(v=0.0000, grad=0.0000)], [Var(v=0.0000, grad=0.0000)], [Var(v=0.0000, grad=0.0000)], [Var(v=0.0253, grad=0.0000)], [Var(v=0.0000, grad=0.0000)], [Var(v=0.0220, grad=0.0000)], [Var(v=0.0238, grad=0.0000)], [Var(v=0.0000, grad=0.0000)], [Var(v=0.0044, grad=0.0000)], [Var(v=0.0273, grad=0.0000)], [Var(v=0.0103, grad=0.0000)], [Var(v=0.0193, grad=0.0000)], [Var(v=0.0138, grad=0.0000)], [Var(v=0.0097, grad=0.0000)], [Var(v=0.0132, grad=0.0000)], [Var(v=0.0000, grad=0.0000)], [Var(v=0.0165, grad=0.0000)], [Var(v=0.0130, grad=0.0000)], [Var(v=0.0159, grad=0.0000)], [Var(v=0.0000, grad=0.0000)], [Var(v=0.0000, grad=0.0000)], [Var(v=0.0061, grad=0.0000)], [Var(v=0.0000, grad=0.0000)], [Var(v=0.0000, grad=0.0000)], [Var(v=0.0000, grad=0.0000)], [Var(v=0.0000, grad=0.0000)], [Var(v=0.0134, grad=0.0000)], [Var(v=0.0000, grad=0.0000)], [Var(v=0.0000, grad=0.0000)], [Var(v=0.0089, grad=0.0000)], [Var(v=0.0099, grad=0.0000)], [Var(v=0.0000, grad=0.0000)], [Var(v=0.0236, grad=0.0000)], [Var(v=0.0000, grad=0.0000)], [Var(v=0.0167, grad=0.0000)], [Var(v=0.0275, grad=0.0000)], [Var(v=0.0000, grad=0.0000)], [Var(v=0.0000, grad=0.0000)], [Var(v=0.0226, grad=0.0000)], [Var(v=0.0242, grad=0.0000)], [Var(v=0.0000, grad=0.0000)], [Var(v=0.0173, grad=0.0000)], [Var(v=0.0000, grad=0.0000)], [Var(v=0.0067, grad=0.0000)], [Var(v=0.0030, grad=0.0000)], [Var(v=0.0000, grad=0.0000)], [Var(v=0.0000, grad=0.0000)], [Var(v=0.0024, grad=0.0000)], [Var(v=0.0000, grad=0.0000)], [Var(v=0.0120, grad=0.0000)], [Var(v=0.0116, grad=0.0000)], [Var(v=0.0153, grad=0.0000)], [Var(v=0.0000, grad=0.0000)], [Var(v=0.0000, grad=0.0000)], [Var(v=0.0000, grad=0.0000)], [Var(v=0.0249, grad=0.0000)], [Var(v=0.0034, grad=0.0000)], [Var(v=0.0126, grad=0.0000)], [Var(v=0.0054, grad=0.0000)], [Var(v=0.0046, grad=0.0000)], [Var(v=0.0140, grad=0.0000)], [Var(v=0.0257, grad=0.0000)], [Var(v=0.0267, grad=0.0000)], [Var(v=0.0000, grad=0.0000)], [Var(v=0.0081, grad=0.0000)], [Var(v=0.0148, grad=0.0000)], [Var(v=0.0000, grad=0.0000)], [Var(v=0.0212, grad=0.0000)], [Var(v=0.0255, grad=0.0000)], [Var(v=0.0000, grad=0.0000)], [Var(v=0.0000, grad=0.0000)], [Var(v=0.0000, grad=0.0000)], [Var(v=0.0150, grad=0.0000)], [Var(v=0.0000, grad=0.0000)], [Var(v=0.0146, grad=0.0000)], [Var(v=0.0224, grad=0.0000)], [Var(v=0.0000, grad=0.0000)], [Var(v=0.0000, grad=0.0000)]]\n"
          ]
        }
      ],
      "source": [
        "NN = [\n",
        "    DenseLayer(1, 5, lambda x: x.relu()),\n",
        "    DenseLayer(5, 1, lambda x: x.identity())\n",
        "]\n",
        "\n",
        "def forward(input, network):\n",
        "\n",
        "  def forward_single(x, network):\n",
        "    for layer in network:\n",
        "        x = layer.forward(x)\n",
        "    return x\n",
        "\n",
        "  output = [ forward_single(input[n], network) for n in range(len(input))]\n",
        "  return output\n",
        "\n",
        "print(forward(x_train, NN))\n"
      ]
    },
    {
      "cell_type": "markdown",
      "metadata": {
        "id": "oLrGJytZFtGm"
      },
      "source": [
        "## Exercise h) Print all network parameters\n",
        "\n",
        "Make a function that prints all the parameters of the network (weights and biases) with information about in which layer the appear. In the object oriented spirit you should introduce a method in the DenseLayer class to print the parameters of a layer. Hint: You can take inspiration from the corresponding method in Var."
      ]
    },
    {
      "cell_type": "code",
      "execution_count": 149,
      "metadata": {
        "id": "iac-VwYGFtGm",
        "colab": {
          "base_uri": "https://localhost:8080/"
        },
        "outputId": "e88d63f8-7198-4460-f91c-833c635384d8"
      },
      "outputs": [
        {
          "output_type": "stream",
          "name": "stdout",
          "text": [
            "Layer 0 \n",
            " Weights: [[Var(v=-0.0472, grad=0.0000), Var(v=-0.1101, grad=0.0000), Var(v=-0.0556, grad=0.0000), Var(v=-0.1230, grad=0.0000), Var(v=-0.0294, grad=0.0000)]] Biases: [Var(v=0.0000, grad=0.0000), Var(v=0.0000, grad=0.0000), Var(v=0.0000, grad=0.0000), Var(v=0.0000, grad=0.0000), Var(v=0.0000, grad=0.0000)]\n",
            "Layer 1 \n",
            " Weights: [[Var(v=-0.0480, grad=0.0000)], [Var(v=0.1253, grad=0.0000)], [Var(v=0.0069, grad=0.0000)], [Var(v=0.0414, grad=0.0000)], [Var(v=0.0230, grad=0.0000)]] Biases: [Var(v=0.0000, grad=0.0000)]\n"
          ]
        },
        {
          "output_type": "execute_result",
          "data": {
            "text/plain": [
              "[None, None]"
            ]
          },
          "metadata": {},
          "execution_count": 149
        }
      ],
      "source": [
        "# Insert code here and in the DenseLayer class\n",
        "\n",
        "[print('Layer', i, '\\n', NN[i]) for i in range(len(NN))]"
      ]
    },
    {
      "cell_type": "markdown",
      "metadata": {
        "id": "_79HOAXrFtHK"
      },
      "source": [
        "## Visualization\n",
        "\n",
        "Now that we have defined our activation functions we can visualize them to see what they look like:"
      ]
    },
    {
      "cell_type": "code",
      "execution_count": 103,
      "metadata": {
        "id": "1FcylHqLTl-Z",
        "colab": {
          "base_uri": "https://localhost:8080/",
          "height": 448
        },
        "outputId": "150dadc8-d00c-4c00-bdaf-1f9455eef18f"
      },
      "outputs": [
        {
          "output_type": "execute_result",
          "data": {
            "text/plain": [
              "[<matplotlib.lines.Line2D at 0x7c9a3410a410>]"
            ]
          },
          "metadata": {},
          "execution_count": 103
        },
        {
          "output_type": "display_data",
          "data": {
            "text/plain": [
              "<Figure size 640x480 with 1 Axes>"
            ],
            "image/png": "[encoded data removed]"
          },
          "metadata": {}
        }
      ],
      "source": [
        "x = np.linspace(-6, 6, 100)\n",
        "\n",
        "# convert from Var to ndarray\n",
        "def Var_to_nparray(x):\n",
        "  y = np.zeros((len(x),len(x[0])))\n",
        "  for i in range(len(x)):\n",
        "    for j in range(len(x[0])):\n",
        "      y[i,j] = x[i][j].v\n",
        "  return y\n",
        "\n",
        "# define 1-1 network with weight = 1 and relu activation\n",
        "NN = [ DenseLayer(1, 1, lambda x: x.relu(), initializer = ConstantInitializer(1.0)) ]\n",
        "y = Var_to_nparray(forward(nparray_to_Var(x), NN))\n",
        "\n",
        "#y = Var_to_nparray(relu(nparray_to_Var(x)))\n",
        "plt.plot(x,y)"
      ]
    },
    {
      "cell_type": "code",
      "execution_count": 101,
      "metadata": {
        "id": "oOL2UolJFtHL",
        "colab": {
          "base_uri": "https://localhost:8080/",
          "height": 476
        },
        "outputId": "3fdd02ad-6764-4f67-f6ab-c6d79cd7baf4"
      },
      "outputs": [
        {
          "output_type": "display_data",
          "data": {
            "text/plain": [
              "<Figure size 500x500 with 1 Axes>"
            ],
            "image/png": "[encoded data removed]"
          },
          "metadata": {}
        }
      ],
      "source": [
        "# Testing all activation layers\n",
        "\n",
        "x = np.linspace(-6, 6, 100)\n",
        "units = {\n",
        "    \"identity\": lambda x: x.identity(),\n",
        "    \"sigmoid\": lambda x: x.sigmoid(),\n",
        "    \"relu\": lambda x: x.relu(),\n",
        "    \"tanh\": lambda x: x.tanh()\n",
        "}\n",
        "\n",
        "plt.figure(figsize=(5, 5))\n",
        "[plt.plot(x, Var_to_nparray(forward(nparray_to_Var(x), [DenseLayer(1, 1, unit, initializer = ConstantInitializer(1.0))]) ), label=unit_name, lw=2) for unit_name, unit in units.items()] # unit(nparray_to_Var(x))), label=unit_name, lw=2) for unit_name, unit in units.items()]\n",
        "plt.legend(loc=2, fontsize=16)\n",
        "plt.title('Our activation functions', fontsize=20)\n",
        "plt.ylim([-2, 5])\n",
        "plt.xlim([-6, 6])\n",
        "plt.show()"
      ]
    },
    {
      "cell_type": "markdown",
      "metadata": {
        "id": "b-jdEl-7FtGs"
      },
      "source": [
        "# Advanced initialization schemes\n",
        "\n",
        "If we are not careful with initialization, the signals we propagate forward ($a^{(l)}$, $l=1,\\ldots,L$) and backward ($\\delta^l$, $l=L,L-1,\\ldots,1$) can blow up or shrink to zero. A statistical analysis of the variance of the signals for different activation functions can be found in these two papers: [Glorot initialization](http://proceedings.mlr.press/v9/glorot10a/glorot10a.pdf) and [He initialization](https://arxiv.org/pdf/1502.01852v1.pdf).\n",
        "\n",
        "The result of the analyses are proposals for how to make the initialization such that the variance of the signals (forward and backward) are kept approxmimatly constant when propagating from layer to layer. The exact expressions depend upon the non-linear activation function used. In Glorot initialization, the aim is to keep both the forward and backward variances constant whereas He only aims at keeping the variance in the forward pass constant.\n",
        "\n",
        "We define $n_{in}$ and $n_{out}$ as the number of input units and output units of a particular layer.\n",
        "\n",
        "The Glorot initialization has the form:\n",
        "\n",
        "$$w_{ij} \\sim N \\bigg( 0, \\, \\frac{2 \\alpha }{n_{in} + n_{out}} \\bigg) \\ . $$\n",
        "\n",
        "where $N(\\mu,\\sigma^2)$ is a Gaussian distribution with mean $\\mu$ and variance $\\sigma^2$ and $\\alpha$ is a parameter that depends upon the activation function used. For $\\tanh$, $\\alpha=1$ and for Rectified Linear Unit (ReLU) activations, $\\alpha=2$. (It is also possible to use a uniform distribution for initialization, see [this blog post](https://mmuratarat.github.io/2019-02-25/xavier-glorot-he-weight-init).)\n",
        "\n",
        "The He initialization is very similar\n",
        "\n",
        "$$w_{ij} \\sim N \\bigg( 0, \\, \\frac{\\alpha}{n_{in}} \\bigg) \\ . $$"
      ]
    },
    {
      "cell_type": "markdown",
      "metadata": {
        "id": "mqeyab9qFtGs"
      },
      "source": [
        "## Exercise i) Glorot and He initialization\n",
        "\n",
        "Using the Initializer class, implement functions that implement Glorot and He\n",
        "\n",
        "Explain briefly how you would test numerically that these initializations have the sought after property. Hint: See plots in Glorot paper.\n",
        "\n",
        "Comment: If you want to be more advanced then try to make a universal initializer taking both the activation function and type (Glorot or He) as argument."
      ]
    },
    {
      "cell_type": "code",
      "execution_count": 130,
      "metadata": {
        "id": "Qyk01CgaFtGt"
      },
      "outputs": [],
      "source": [
        "## Glorot\n",
        "def DenseLayer_Glorot_tanh(n_in: int, n_out: int):\n",
        "  std = 2.0/(n_in+n_out) # <- replace with proper initialization\n",
        "  return DenseLayer(n_in, n_out, lambda x: x.tanh(), initializer = NormalInitializer(std))\n",
        "\n",
        "## He\n",
        "def DenseLayer_He_relu(n_in: int, n_out: int):\n",
        "  std = 2.0/n_in # <- replace with proper initialization\n",
        "  return DenseLayer(n_in, n_out, lambda x: x.relu(), initializer = NormalInitializer(std))"
      ]
    },
    {
      "cell_type": "markdown",
      "source": [
        "To test numerically that these initializations have the sought after property, I would plot the standard deviation of the\n",
        "activation values during supervised learning, for the different hidden layers and see if it stayed constant."
      ],
      "metadata": {
        "id": "YsR9oYpv72GX"
      }
    },
    {
      "cell_type": "markdown",
      "metadata": {
        "id": "-XyXBD37FtHk"
      },
      "source": [
        "## Exercise j) Forward pass unit test\n",
        "\n",
        "Write a bit of code to make a unit test that the forward pass works. This can be done by defining a simple network with for example all weights equal to one (using the ConstantInitializer method) and identity activation functions.\n",
        "\n",
        "Hints: Use the [assert](https://www.w3schools.com/python/ref_keyword_assert.asp), the nparray_to_Var and the Var_to_nparray commands."
      ]
    },
    {
      "cell_type": "code",
      "execution_count": null,
      "metadata": {
        "id": "k0miqRUAFtHl"
      },
      "outputs": [],
      "source": [
        "# Insert code here"
      ]
    },
    {
      "cell_type": "markdown",
      "metadata": {
        "id": "faCxhfFnFtHp"
      },
      "source": [
        "# Loss functions\n",
        "\n",
        "We are only missing a loss function to we need to define a loss function and its derivative with respect to the output of the neural network $y$"
      ]
    },
    {
      "cell_type": "code",
      "execution_count": 144,
      "metadata": {
        "id": "I2eDYKvAFtHq"
      },
      "outputs": [],
      "source": [
        "def squared_loss(t, y):\n",
        "\n",
        "  # add check that sizes agree\n",
        "\n",
        "  def squared_loss_single(t, y):\n",
        "    Loss = Var(0.0)\n",
        "    for i in range(len(t)): # sum over outputs\n",
        "      Loss += (t[i]-y[i]) ** 2\n",
        "    return Loss\n",
        "\n",
        "  Loss = Var(0.0)\n",
        "  for n in range(len(t)): # sum over training data\n",
        "    Loss += squared_loss_single(t[n],y[n])\n",
        "  return Loss"
      ]
    },
    {
      "cell_type": "markdown",
      "metadata": {
        "id": "SrwSJ2UWFtHu"
      },
      "source": [
        "## Exercise k) Implement cross entropy loss\n",
        "\n",
        "Insert code below to implement cross-entropy loss for general dimensionality of $t$. Use a logits formulation:\n",
        "$$\n",
        "\\rm{Loss} = - \\sum_i t_i \\, log \\, p_i\n",
        "$$\n",
        "with $p$ given by the the softmax function in terms of the logits $h$:\n",
        "$$\n",
        "p_i = \\frac{\\exp(h_i)}{\\sum_{i'} \\exp(h_{i'})} .\n",
        "$$\n",
        "Inserting $p$ in the expression for the loss gives\n",
        "$$\n",
        "\\rm{Loss} = - \\sum_i t_i h_i + \\rm{LogSumExp}(h) \\ ,\n",
        "$$\n",
        "where\n",
        "$$\n",
        "\\rm{LogSumExp}(h) = \\log \\sum_i \\exp h_i \\ .\n",
        "$$\n",
        "This is true for $t$ being a one-hot vector.\n",
        "\n",
        "Call the function to convince yourself it works.\n",
        "\n",
        "In practice you want to implement a [numerically stable](https://leimao.github.io/blog/LogSumExp/) version of LogSumExp. But we will not bother about that here.\n",
        "\n",
        "Help: You can add these methods in the Var class:\n",
        "\n",
        "    def exp(self):\n",
        "        return Var(exp(self.v), lambda: [(self, exp(self.v))])\n",
        "    \n",
        "    def log(self):\n",
        "        return Var(log(self.v), lambda: [(self, self.v ** -1)])"
      ]
    },
    {
      "cell_type": "code",
      "execution_count": 145,
      "metadata": {
        "id": "6nMuxyfzFtHv",
        "colab": {
          "base_uri": "https://localhost:8080/"
        },
        "outputId": "5c492c62-9dbb-4618-df09-822ca736c87c"
      },
      "outputs": [
        {
          "output_type": "execute_result",
          "data": {
            "text/plain": [
              "Var(v=1.0986, grad=0.0000)"
            ]
          },
          "metadata": {},
          "execution_count": 145
        }
      ],
      "source": [
        "def cross_entropy_loss(t, h):\n",
        "\n",
        "    Loss = 0\n",
        "    sumexp = 0\n",
        "    for i in range(len(t)):\n",
        "        Loss -= t[i]*h[i]\n",
        "        sumexp += exp(h[i])\n",
        "\n",
        "    Loss = Var(Loss + log(sumexp))\n",
        "    # Insert code here\n",
        "    return Loss\n",
        "\n",
        "cross_entropy_loss([0,0,1],[1,1,1])"
      ]
    },
    {
      "cell_type": "markdown",
      "metadata": {
        "id": "8fAF5ew4FtHy"
      },
      "source": [
        "# Backward pass\n",
        "\n",
        "Now the magic happens! We get the calculation of the gradients for free. Just do:"
      ]
    },
    {
      "cell_type": "code",
      "execution_count": 150,
      "metadata": {
        "id": "iHyfPPI9Qqwu"
      },
      "outputs": [],
      "source": [
        "NN = [\n",
        "    DenseLayer(1, 5, lambda x: x.relu()),\n",
        "    DenseLayer(5, 1, lambda x: x.identity())\n",
        "]\n",
        "\n",
        "output = forward(x_train, NN)\n",
        "\n",
        "Loss = squared_loss(y_train,output)\n",
        "Loss.backward()"
      ]
    },
    {
      "cell_type": "markdown",
      "metadata": {
        "id": "49biIAYKQ1oG"
      },
      "source": [
        "and the gradients will be calculated:"
      ]
    },
    {
      "cell_type": "code",
      "execution_count": 151,
      "metadata": {
        "id": "_rGt1bq_Q7uk",
        "colab": {
          "base_uri": "https://localhost:8080/"
        },
        "outputId": "9ad66d11-f278-4b88-f766-7906bc07d22a"
      },
      "outputs": [
        {
          "output_type": "stream",
          "name": "stdout",
          "text": [
            "Layer 0 \n",
            " Weights: [[Var(v=0.0670, grad=-5.8093), Var(v=-0.0394, grad=-12.3800), Var(v=-0.0198, grad=-2.8069), Var(v=0.0221, grad=6.1416), Var(v=-0.1343, grad=-0.9930)]] Biases: [Var(v=0.0000, grad=-4.9904), Var(v=0.0000, grad=11.2542), Var(v=0.0000, grad=2.5516), Var(v=0.0000, grad=5.2759), Var(v=0.0000, grad=0.9027)]\n",
            "Layer 1 \n",
            " Weights: [[Var(v=0.0573, grad=-6.7905)], [Var(v=0.1280, grad=3.8061)], [Var(v=0.0290, grad=1.9106)], [Var(v=-0.0606, grad=-2.2349)], [Var(v=0.0103, grad=12.9848)]] Biases: [Var(v=0.0000, grad=0.8794)]\n"
          ]
        },
        {
          "output_type": "execute_result",
          "data": {
            "text/plain": [
              "[None, None]"
            ]
          },
          "metadata": {},
          "execution_count": 151
        }
      ],
      "source": [
        "[print('Layer', i, '\\n', NN[i]) for i in range(len(NN))]"
      ]
    },
    {
      "cell_type": "markdown",
      "metadata": {
        "id": "D7d7qK0uFtH9"
      },
      "source": [
        "# Backward pass unit test\n",
        "\n",
        "Above we used finite differences to test that Nanograd is actually doing what it is supposed to do. We can in principle try the same for the neural network. But we will trust that the test above is enough."
      ]
    },
    {
      "cell_type": "markdown",
      "metadata": {
        "id": "WgBi8GOSFtIN"
      },
      "source": [
        "# Training and validation\n",
        "\n",
        "We are ready to train some neural networks!\n",
        "\n",
        "We initialize again:"
      ]
    },
    {
      "cell_type": "code",
      "execution_count": 152,
      "metadata": {
        "id": "01ePmzBzRtdh"
      },
      "outputs": [],
      "source": [
        "NN = [\n",
        "    DenseLayer(1, 15, lambda x: x.relu()),\n",
        "    DenseLayer(15, 50, lambda x: x.relu()),\n",
        "    DenseLayer(50, 1, lambda x: x.identity())\n",
        "]\n",
        "\n",
        "output = forward(x_train, NN)\n",
        "\n",
        "Loss = squared_loss(y_train,output)\n",
        "Loss.backward()"
      ]
    },
    {
      "cell_type": "markdown",
      "metadata": {
        "id": "10iRPiQ1ISHw"
      },
      "source": [
        "and make an update:\n",
        "\n",
        "We introduce a help function parameters to have a handle in all parameters in the network."
      ]
    },
    {
      "cell_type": "code",
      "execution_count": 153,
      "metadata": {
        "id": "dhAI7eyeznia",
        "colab": {
          "base_uri": "https://localhost:8080/"
        },
        "outputId": "ae887e40-18c3-4a4e-a4eb-c10efa68c18d"
      },
      "outputs": [
        {
          "output_type": "stream",
          "name": "stdout",
          "text": [
            "Network before update:\n",
            "Layer 0 \n",
            " Weights: [[Var(v=-0.2145, grad=0.5120), Var(v=-0.0150, grad=-2.8332), Var(v=0.0284, grad=8.2103), Var(v=0.0108, grad=-10.5938), Var(v=0.1643, grad=0.6433), Var(v=0.0880, grad=10.9255), Var(v=-0.0808, grad=4.4147), Var(v=0.0332, grad=3.2634), Var(v=0.0339, grad=6.5501), Var(v=0.0053, grad=5.3317), Var(v=-0.0404, grad=-8.9252), Var(v=-0.1835, grad=-4.1544), Var(v=0.1349, grad=6.2812), Var(v=0.0523, grad=-3.8652), Var(v=-0.0142, grad=-2.1868)]] Biases: [Var(v=0.0000, grad=-0.4654), Var(v=0.0000, grad=2.5756), Var(v=0.0000, grad=7.0497), Var(v=0.0000, grad=-9.0963), Var(v=0.0000, grad=0.5524), Var(v=0.0000, grad=9.3811), Var(v=0.0000, grad=-4.0133), Var(v=0.0000, grad=2.8021), Var(v=0.0000, grad=5.6242), Var(v=0.0000, grad=4.5780), Var(v=0.0000, grad=8.1137), Var(v=0.0000, grad=3.7767), Var(v=0.0000, grad=5.3933), Var(v=0.0000, grad=-3.3189), Var(v=0.0000, grad=1.9879)]\n",
            "Layer 1 \n",
            " Weights: [[Var(v=0.0793, grad=3.1955), Var(v=-0.0438, grad=2.3013), Var(v=-0.0249, grad=1.5123), Var(v=0.0519, grad=-1.4253), Var(v=0.1159, grad=2.0773), Var(v=-0.1076, grad=0.0000), Var(v=0.0380, grad=1.0577), Var(v=0.0866, grad=0.8901), Var(v=0.0613, grad=0.7406), Var(v=0.2631, grad=2.2862), Var(v=-0.0021, grad=0.0000), Var(v=0.0631, grad=-0.5055), Var(v=-0.1882, grad=0.0000), Var(v=0.2260, grad=0.6824), Var(v=0.0314, grad=0.4932), Var(v=-0.0405, grad=0.0000), Var(v=0.1501, grad=0.8223), Var(v=0.1056, grad=0.4657), Var(v=-0.1043, grad=0.0000), Var(v=-0.0673, grad=0.2202), Var(v=0.0029, grad=-3.1474), Var(v=-0.0443, grad=0.0000), Var(v=-0.0293, grad=0.0000), Var(v=0.1374, grad=-0.6903), Var(v=-0.0548, grad=0.0000), Var(v=-0.0126, grad=2.9742), Var(v=-0.0226, grad=0.0000), Var(v=-0.0448, grad=-1.5171), Var(v=-0.0688, grad=0.0000), Var(v=-0.1088, grad=0.0000), Var(v=-0.0222, grad=0.0000), Var(v=-0.0478, grad=0.0000), Var(v=-0.1041, grad=-0.5553), Var(v=0.2308, grad=0.4648), Var(v=-0.0433, grad=0.2783), Var(v=0.0575, grad=-0.8302), Var(v=0.0948, grad=0.0000), Var(v=0.2623, grad=-4.9830), Var(v=-0.0604, grad=0.0000), Var(v=0.1700, grad=-2.1494), Var(v=-0.0190, grad=-2.0075), Var(v=-0.0455, grad=0.0000), Var(v=0.0014, grad=0.3778), Var(v=-0.0921, grad=0.0000), Var(v=-0.1685, grad=0.0000), Var(v=-0.0093, grad=0.0000), Var(v=0.0234, grad=0.0000), Var(v=-0.2304, grad=0.0000), Var(v=-0.0531, grad=-1.9572), Var(v=-0.0255, grad=-1.8470)], [Var(v=0.0841, grad=0.2230), Var(v=-0.0137, grad=0.1606), Var(v=-0.1754, grad=0.1056), Var(v=-0.0524, grad=-0.0995), Var(v=-0.0995, grad=0.1450), Var(v=0.0807, grad=0.0000), Var(v=0.2477, grad=0.0738), Var(v=0.0671, grad=0.0621), Var(v=-0.0853, grad=0.0517), Var(v=0.1091, grad=0.1596), Var(v=-0.0391, grad=0.0000), Var(v=0.0047, grad=-0.0353), Var(v=-0.0299, grad=0.0000), Var(v=0.1142, grad=0.0476), Var(v=0.0656, grad=0.0344), Var(v=-0.2017, grad=0.0000), Var(v=-0.0017, grad=0.0574), Var(v=-0.1123, grad=0.0325), Var(v=0.0736, grad=0.0000), Var(v=-0.0360, grad=0.0154), Var(v=0.1429, grad=-0.2197), Var(v=0.0601, grad=0.0000), Var(v=-0.0655, grad=0.0000), Var(v=0.1266, grad=-0.0482), Var(v=-0.0317, grad=0.0000), Var(v=0.1876, grad=0.2076), Var(v=0.1091, grad=0.0000), Var(v=-0.1230, grad=-0.1059), Var(v=0.1703, grad=0.0000), Var(v=0.0705, grad=0.0000), Var(v=-0.1667, grad=0.0000), Var(v=-0.0251, grad=0.0000), Var(v=0.0692, grad=-0.0388), Var(v=-0.0174, grad=0.0324), Var(v=0.1954, grad=0.0194), Var(v=-0.0465, grad=-0.0579), Var(v=0.0701, grad=0.0000), Var(v=-0.0181, grad=-0.3478), Var(v=0.0065, grad=0.0000), Var(v=-0.0887, grad=-0.1500), Var(v=0.0285, grad=-0.1401), Var(v=-0.0637, grad=0.0000), Var(v=0.1412, grad=0.0264), Var(v=-0.0027, grad=0.0000), Var(v=-0.0514, grad=0.0000), Var(v=-0.0065, grad=0.0000), Var(v=0.0320, grad=0.0000), Var(v=0.0069, grad=0.0000), Var(v=0.1234, grad=-0.1366), Var(v=0.0409, grad=-0.1289)], [Var(v=0.0057, grad=0.0000), Var(v=0.0248, grad=0.0000), Var(v=0.0107, grad=0.0000), Var(v=0.0404, grad=0.2029), Var(v=-0.0477, grad=0.0000), Var(v=0.0367, grad=0.0006), Var(v=-0.0550, grad=0.0000), Var(v=-0.0211, grad=-0.1267), Var(v=0.0632, grad=0.0000), Var(v=-0.0615, grad=0.0000), Var(v=0.2980, grad=0.0000), Var(v=0.0313, grad=0.0720), Var(v=0.0651, grad=0.0000), Var(v=0.0314, grad=-0.0971), Var(v=-0.1422, grad=0.0000), Var(v=0.0086, grad=0.0391), Var(v=-0.0366, grad=0.0000), Var(v=-0.0521, grad=-0.0663), Var(v=0.0459, grad=-0.0224), Var(v=-0.1887, grad=0.0000), Var(v=0.1790, grad=0.4480), Var(v=0.0084, grad=0.0000), Var(v=0.0754, grad=0.0000), Var(v=-0.0039, grad=0.0983), Var(v=0.0359, grad=-0.2184), Var(v=0.0381, grad=0.0000), Var(v=-0.0012, grad=-0.2453), Var(v=0.0138, grad=0.2160), Var(v=0.0529, grad=-0.4868), Var(v=0.0657, grad=0.5394), Var(v=-0.1194, grad=0.0000), Var(v=0.0379, grad=-0.0448), Var(v=-0.0976, grad=0.0000), Var(v=0.0735, grad=0.0000), Var(v=0.1229, grad=0.0000), Var(v=0.1179, grad=0.1182), Var(v=0.1091, grad=0.0000), Var(v=0.2637, grad=0.7093), Var(v=-0.1102, grad=-0.1841), Var(v=-0.0350, grad=0.3060), Var(v=0.0474, grad=0.0000), Var(v=0.0147, grad=0.0000), Var(v=-0.1367, grad=0.0000), Var(v=-0.2323, grad=0.0000), Var(v=-0.1797, grad=0.0000), Var(v=-0.0834, grad=0.0000), Var(v=-0.1649, grad=0.3493), Var(v=0.0573, grad=0.0316), Var(v=-0.1057, grad=0.2786), Var(v=0.0457, grad=0.2629)], [Var(v=-0.0751, grad=0.0000), Var(v=-0.1447, grad=0.0000), Var(v=-0.0073, grad=0.0000), Var(v=-0.0634, grad=0.0771), Var(v=0.0433, grad=0.0000), Var(v=-0.0108, grad=0.0002), Var(v=-0.1222, grad=0.0000), Var(v=-0.1239, grad=-0.0481), Var(v=0.0022, grad=0.0000), Var(v=-0.0014, grad=0.0000), Var(v=-0.0580, grad=0.0000), Var(v=0.1010, grad=0.0273), Var(v=0.1057, grad=0.0000), Var(v=0.0076, grad=-0.0369), Var(v=0.0832, grad=0.0000), Var(v=0.1013, grad=0.0148), Var(v=0.1572, grad=0.0000), Var(v=0.1102, grad=-0.0252), Var(v=-0.0930, grad=-0.0085), Var(v=-0.1890, grad=0.0000), Var(v=0.0042, grad=0.1702), Var(v=0.0603, grad=0.0000), Var(v=0.0637, grad=0.0000), Var(v=0.0042, grad=0.0373), Var(v=-0.0277, grad=-0.0830), Var(v=0.0720, grad=0.0000), Var(v=-0.0451, grad=-0.0932), Var(v=0.0132, grad=0.0820), Var(v=0.1830, grad=-0.1849), Var(v=-0.1340, grad=0.2049), Var(v=0.1329, grad=0.0000), Var(v=0.0140, grad=-0.0170), Var(v=0.0642, grad=0.0000), Var(v=0.0748, grad=0.0000), Var(v=0.1579, grad=0.0000), Var(v=-0.1298, grad=0.0449), Var(v=-0.1311, grad=0.0000), Var(v=-0.1371, grad=0.2694), Var(v=-0.0297, grad=-0.0699), Var(v=-0.1156, grad=0.1162), Var(v=0.0117, grad=0.0000), Var(v=0.0666, grad=0.0000), Var(v=0.0380, grad=0.0000), Var(v=-0.0075, grad=0.0000), Var(v=0.1964, grad=0.0000), Var(v=-0.0593, grad=0.0000), Var(v=0.0335, grad=0.1327), Var(v=-0.0295, grad=0.0120), Var(v=-0.0375, grad=0.1058), Var(v=-0.1038, grad=0.0998)], [Var(v=0.0062, grad=0.0000), Var(v=0.0172, grad=0.0000), Var(v=-0.1239, grad=0.0000), Var(v=-0.1024, grad=1.1728), Var(v=-0.0567, grad=0.0000), Var(v=0.0708, grad=0.0036), Var(v=-0.0770, grad=0.0000), Var(v=0.0236, grad=-0.7324), Var(v=-0.0623, grad=0.0000), Var(v=-0.0694, grad=0.0000), Var(v=-0.0527, grad=0.0000), Var(v=0.2381, grad=0.4160), Var(v=-0.0478, grad=0.0000), Var(v=0.1171, grad=-0.5615), Var(v=-0.0479, grad=0.0000), Var(v=0.0700, grad=0.2260), Var(v=0.0184, grad=0.0000), Var(v=0.0832, grad=-0.3832), Var(v=0.0633, grad=-0.1297), Var(v=-0.0389, grad=0.0000), Var(v=0.1577, grad=2.5898), Var(v=0.0170, grad=0.0000), Var(v=-0.1355, grad=0.0000), Var(v=0.0301, grad=0.5680), Var(v=-0.1564, grad=-1.2627), Var(v=0.0807, grad=0.0000), Var(v=0.1752, grad=-1.4181), Var(v=0.0008, grad=1.2483), Var(v=0.1589, grad=-2.8140), Var(v=-0.0196, grad=3.1183), Var(v=0.1005, grad=0.0000), Var(v=0.0097, grad=-0.2590), Var(v=-0.0917, grad=0.0000), Var(v=-0.0310, grad=0.0000), Var(v=-0.1051, grad=0.0000), Var(v=-0.0213, grad=0.6831), Var(v=-0.0476, grad=0.0000), Var(v=-0.0602, grad=4.1002), Var(v=-0.0537, grad=-1.0643), Var(v=0.1495, grad=1.7686), Var(v=-0.1419, grad=0.0000), Var(v=-0.0234, grad=0.0000), Var(v=-0.0873, grad=0.0000), Var(v=-0.2287, grad=0.0000), Var(v=-0.0418, grad=0.0000), Var(v=-0.1039, grad=0.0000), Var(v=-0.0101, grad=2.0193), Var(v=0.1665, grad=0.1825), Var(v=0.1378, grad=1.6104), Var(v=0.0507, grad=1.5198)], [Var(v=0.0647, grad=0.0000), Var(v=-0.1599, grad=0.0000), Var(v=-0.0950, grad=0.0000), Var(v=0.2868, grad=0.6277), Var(v=0.0129, grad=0.0000), Var(v=0.0717, grad=0.0019), Var(v=-0.0844, grad=0.0000), Var(v=0.0117, grad=-0.3920), Var(v=-0.0228, grad=0.0000), Var(v=-0.1126, grad=0.0000), Var(v=-0.0351, grad=0.0000), Var(v=0.0662, grad=0.2226), Var(v=-0.1130, grad=0.0000), Var(v=0.0103, grad=-0.3005), Var(v=0.0523, grad=0.0000), Var(v=0.1403, grad=0.1210), Var(v=-0.0877, grad=0.0000), Var(v=0.0189, grad=-0.2051), Var(v=0.0816, grad=-0.0694), Var(v=-0.0043, grad=0.0000), Var(v=0.2333, grad=1.3862), Var(v=-0.1731, grad=0.0000), Var(v=-0.1581, grad=0.0000), Var(v=0.2481, grad=0.3040), Var(v=0.2157, grad=-0.6758), Var(v=-0.1786, grad=0.0000), Var(v=-0.0311, grad=-0.7590), Var(v=0.0155, grad=0.6681), Var(v=-0.1437, grad=-1.5061), Var(v=0.1381, grad=1.6690), Var(v=0.0521, grad=0.0000), Var(v=-0.0599, grad=-0.1386), Var(v=-0.2047, grad=0.0000), Var(v=-0.1329, grad=0.0000), Var(v=-0.0101, grad=0.0000), Var(v=0.0185, grad=0.3656), Var(v=-0.0350, grad=0.0000), Var(v=-0.1184, grad=2.1946), Var(v=-0.0124, grad=-0.5697), Var(v=0.0353, grad=0.9466), Var(v=-0.1773, grad=0.0000), Var(v=-0.0213, grad=0.0000), Var(v=-0.1613, grad=0.0000), Var(v=-0.0505, grad=0.0000), Var(v=0.0177, grad=0.0000), Var(v=-0.0709, grad=0.0000), Var(v=0.1971, grad=1.0808), Var(v=0.0483, grad=0.0977), Var(v=-0.0396, grad=0.8619), Var(v=0.0657, grad=0.8134)], [Var(v=-0.0769, grad=1.2042), Var(v=-0.0481, grad=0.8672), Var(v=0.2044, grad=0.5699), Var(v=-0.0936, grad=-0.5371), Var(v=0.3035, grad=0.7828), Var(v=-0.0192, grad=0.0000), Var(v=-0.0147, grad=0.3986), Var(v=0.1360, grad=0.3354), Var(v=0.0508, grad=0.2791), Var(v=0.1262, grad=0.8616), Var(v=0.0335, grad=0.0000), Var(v=0.0564, grad=-0.1905), Var(v=-0.0015, grad=0.0000), Var(v=0.1166, grad=0.2572), Var(v=0.1673, grad=0.1859), Var(v=0.0384, grad=0.0000), Var(v=-0.0739, grad=0.3099), Var(v=0.0852, grad=0.1755), Var(v=0.0035, grad=0.0000), Var(v=0.1161, grad=0.0830), Var(v=0.1005, grad=-1.1861), Var(v=-0.1115, grad=0.0000), Var(v=0.1158, grad=0.0000), Var(v=0.0499, grad=-0.2601), Var(v=0.0435, grad=0.0000), Var(v=-0.0536, grad=1.1208), Var(v=-0.1073, grad=0.0000), Var(v=0.0932, grad=-0.5717), Var(v=-0.0508, grad=0.0000), Var(v=0.0546, grad=0.0000), Var(v=-0.0465, grad=0.0000), Var(v=0.1080, grad=0.0000), Var(v=-0.0123, grad=-0.2093), Var(v=-0.0489, grad=0.1752), Var(v=0.2176, grad=0.1049), Var(v=-0.2291, grad=-0.3129), Var(v=-0.0725, grad=0.0000), Var(v=0.1436, grad=-1.8778), Var(v=0.0756, grad=0.0000), Var(v=0.1794, grad=-0.8100), Var(v=0.1478, grad=-0.7565), Var(v=0.0359, grad=0.0000), Var(v=-0.0037, grad=0.1424), Var(v=-0.0204, grad=0.0000), Var(v=0.2061, grad=0.0000), Var(v=0.0763, grad=0.0000), Var(v=-0.0789, grad=0.0000), Var(v=0.0168, grad=0.0000), Var(v=0.1384, grad=-0.7376), Var(v=0.0793, grad=-0.6960)], [Var(v=0.0402, grad=0.0000), Var(v=-0.1741, grad=0.0000), Var(v=0.2200, grad=0.0000), Var(v=-0.0690, grad=0.2371), Var(v=0.1747, grad=0.0000), Var(v=-0.0945, grad=0.0007), Var(v=-0.0320, grad=0.0000), Var(v=0.0193, grad=-0.1480), Var(v=-0.2031, grad=0.0000), Var(v=-0.0167, grad=0.0000), Var(v=-0.0396, grad=0.0000), Var(v=-0.1323, grad=0.0841), Var(v=0.0995, grad=0.0000), Var(v=0.0003, grad=-0.1135), Var(v=-0.0312, grad=0.0000), Var(v=0.0753, grad=0.0457), Var(v=-0.0454, grad=0.0000), Var(v=0.0616, grad=-0.0775), Var(v=-0.0309, grad=-0.0262), Var(v=-0.1123, grad=0.0000), Var(v=-0.0974, grad=0.5235), Var(v=0.0255, grad=0.0000), Var(v=-0.0655, grad=0.0000), Var(v=0.0404, grad=0.1148), Var(v=0.0105, grad=-0.2552), Var(v=0.0235, grad=0.0000), Var(v=0.1188, grad=-0.2867), Var(v=0.0957, grad=0.2523), Var(v=-0.0862, grad=-0.5688), Var(v=0.0697, grad=0.6303), Var(v=-0.0422, grad=0.0000), Var(v=-0.0878, grad=-0.0524), Var(v=-0.0807, grad=0.0000), Var(v=-0.0553, grad=0.0000), Var(v=-0.0396, grad=0.0000), Var(v=0.1323, grad=0.1381), Var(v=0.0513, grad=0.0000), Var(v=-0.0091, grad=0.8288), Var(v=0.0033, grad=-0.2151), Var(v=-0.0736, grad=0.3575), Var(v=0.1448, grad=0.0000), Var(v=-0.0170, grad=0.0000), Var(v=0.0313, grad=0.0000), Var(v=-0.0897, grad=0.0000), Var(v=-0.1015, grad=0.0000), Var(v=0.0195, grad=0.0000), Var(v=0.0824, grad=0.4082), Var(v=-0.0476, grad=0.0369), Var(v=0.1042, grad=0.3255), Var(v=0.1669, grad=0.3072)], [Var(v=0.0099, grad=0.0000), Var(v=-0.0219, grad=0.0000), Var(v=0.0636, grad=0.0000), Var(v=0.1038, grad=0.2422), Var(v=0.1691, grad=0.0000), Var(v=0.1277, grad=0.0007), Var(v=-0.0640, grad=0.0000), Var(v=0.1795, grad=-0.1512), Var(v=0.0287, grad=0.0000), Var(v=-0.0086, grad=0.0000), Var(v=0.0719, grad=0.0000), Var(v=0.0669, grad=0.0859), Var(v=-0.0406, grad=0.0000), Var(v=-0.1243, grad=-0.1159), Var(v=-0.2182, grad=0.0000), Var(v=-0.0330, grad=0.0467), Var(v=0.0355, grad=0.0000), Var(v=0.0066, grad=-0.0791), Var(v=-0.0929, grad=-0.0268), Var(v=0.0780, grad=0.0000), Var(v=0.0401, grad=0.5347), Var(v=-0.0427, grad=0.0000), Var(v=-0.0885, grad=0.0000), Var(v=0.0610, grad=0.1173), Var(v=-0.0222, grad=-0.2607), Var(v=-0.0161, grad=0.0000), Var(v=-0.0680, grad=-0.2928), Var(v=0.0992, grad=0.2578), Var(v=0.0588, grad=-0.5810), Var(v=-0.0728, grad=0.6439), Var(v=-0.0412, grad=0.0000), Var(v=0.0803, grad=-0.0535), Var(v=-0.1047, grad=0.0000), Var(v=-0.0659, grad=0.0000), Var(v=-0.0394, grad=0.0000), Var(v=-0.1743, grad=0.1411), Var(v=-0.1154, grad=0.0000), Var(v=0.2519, grad=0.8466), Var(v=-0.1134, grad=-0.2198), Var(v=-0.1312, grad=0.3652), Var(v=0.0237, grad=0.0000), Var(v=0.1255, grad=0.0000), Var(v=-0.0462, grad=0.0000), Var(v=-0.0361, grad=0.0000), Var(v=0.0427, grad=0.0000), Var(v=0.1115, grad=0.0000), Var(v=0.0118, grad=0.4169), Var(v=0.1648, grad=0.0377), Var(v=-0.0082, grad=0.3325), Var(v=0.1115, grad=0.3138)], [Var(v=0.0265, grad=0.0000), Var(v=-0.0764, grad=0.0000), Var(v=0.1039, grad=0.0000), Var(v=0.0804, grad=0.0378), Var(v=-0.0909, grad=0.0000), Var(v=0.0961, grad=0.0001), Var(v=0.0087, grad=0.0000), Var(v=-0.0471, grad=-0.0236), Var(v=0.0155, grad=0.0000), Var(v=-0.1366, grad=0.0000), Var(v=-0.0028, grad=0.0000), Var(v=0.1467, grad=0.0134), Var(v=0.0234, grad=0.0000), Var(v=-0.0010, grad=-0.0181), Var(v=0.1369, grad=0.0000), Var(v=0.0433, grad=0.0073), Var(v=-0.0766, grad=0.0000), Var(v=0.0361, grad=-0.0124), Var(v=-0.1916, grad=-0.0042), Var(v=0.0918, grad=0.0000), Var(v=0.1677, grad=0.0835), Var(v=-0.0006, grad=0.0000), Var(v=0.0552, grad=0.0000), Var(v=0.1198, grad=0.0183), Var(v=0.0984, grad=-0.0407), Var(v=-0.0066, grad=0.0000), Var(v=0.1413, grad=-0.0457), Var(v=0.0457, grad=0.0403), Var(v=-0.0492, grad=-0.0908), Var(v=0.0071, grad=0.1006), Var(v=0.0487, grad=0.0000), Var(v=0.1275, grad=-0.0084), Var(v=0.0479, grad=0.0000), Var(v=-0.1868, grad=0.0000), Var(v=-0.0711, grad=0.0000), Var(v=-0.0496, grad=0.0220), Var(v=0.0620, grad=0.0000), Var(v=0.1087, grad=0.1323), Var(v=0.0733, grad=-0.0343), Var(v=-0.0961, grad=0.0571), Var(v=0.0454, grad=0.0000), Var(v=-0.0351, grad=0.0000), Var(v=-0.0348, grad=0.0000), Var(v=0.0659, grad=0.0000), Var(v=0.1094, grad=0.0000), Var(v=-0.0914, grad=0.0000), Var(v=-0.0193, grad=0.0651), Var(v=-0.0516, grad=0.0059), Var(v=0.1810, grad=0.0520), Var(v=-0.0686, grad=0.0490)], [Var(v=0.1616, grad=0.6021), Var(v=-0.0821, grad=0.4336), Var(v=0.1909, grad=0.2850), Var(v=0.0884, grad=-0.2686), Var(v=0.1545, grad=0.3914), Var(v=-0.0390, grad=0.0000), Var(v=0.1939, grad=0.1993), Var(v=-0.0329, grad=0.1677), Var(v=0.0455, grad=0.1396), Var(v=0.1384, grad=0.4308), Var(v=-0.0455, grad=0.0000), Var(v=0.0952, grad=-0.0953), Var(v=0.1435, grad=0.0000), Var(v=-0.0613, grad=0.1286), Var(v=0.1735, grad=0.0929), Var(v=-0.0477, grad=0.0000), Var(v=-0.0584, grad=0.1549), Var(v=-0.0557, grad=0.0877), Var(v=-0.1440, grad=0.0000), Var(v=-0.0148, grad=0.0415), Var(v=0.0177, grad=-0.5931), Var(v=0.0203, grad=0.0000), Var(v=0.0002, grad=0.0000), Var(v=0.0308, grad=-0.1301), Var(v=0.0714, grad=0.0000), Var(v=0.1910, grad=0.5604), Var(v=-0.0724, grad=0.0000), Var(v=-0.0090, grad=-0.2859), Var(v=0.0041, grad=0.0000), Var(v=-0.0423, grad=0.0000), Var(v=0.0547, grad=0.0000), Var(v=-0.0370, grad=0.0000), Var(v=-0.1673, grad=-0.1046), Var(v=-0.0337, grad=0.0876), Var(v=0.0339, grad=0.0524), Var(v=0.1328, grad=-0.1564), Var(v=-0.0050, grad=0.0000), Var(v=0.0251, grad=-0.9390), Var(v=-0.0523, grad=0.0000), Var(v=0.0311, grad=-0.4050), Var(v=-0.1186, grad=-0.3783), Var(v=0.0793, grad=0.0000), Var(v=-0.0763, grad=0.0712), Var(v=0.0134, grad=0.0000), Var(v=-0.0809, grad=0.0000), Var(v=-0.0129, grad=0.0000), Var(v=0.0824, grad=0.0000), Var(v=0.0730, grad=0.0000), Var(v=0.0789, grad=-0.3688), Var(v=-0.1703, grad=-0.3480)], [Var(v=-0.0088, grad=2.7335), Var(v=0.1877, grad=1.9685), Var(v=0.0979, grad=1.2936), Var(v=0.1003, grad=-1.2192), Var(v=0.0606, grad=1.7769), Var(v=0.0155, grad=0.0000), Var(v=-0.0985, grad=0.9048), Var(v=0.0663, grad=0.7614), Var(v=0.0413, grad=0.6335), Var(v=-0.1707, grad=1.9557), Var(v=-0.0907, grad=0.0000), Var(v=0.1019, grad=-0.4324), Var(v=0.1017, grad=0.0000), Var(v=0.1642, grad=0.5838), Var(v=0.1884, grad=0.4219), Var(v=-0.0574, grad=0.0000), Var(v=0.0809, grad=0.7034), Var(v=-0.0580, grad=0.3983), Var(v=0.0018, grad=0.0000), Var(v=0.0247, grad=0.1884), Var(v=0.1606, grad=-2.6923), Var(v=0.0489, grad=0.0000), Var(v=-0.0916, grad=0.0000), Var(v=-0.1669, grad=-0.5904), Var(v=-0.0331, grad=0.0000), Var(v=0.0729, grad=2.5442), Var(v=-0.0778, grad=0.0000), Var(v=0.1016, grad=-1.2977), Var(v=-0.1427, grad=0.0000), Var(v=-0.0907, grad=0.0000), Var(v=-0.0958, grad=0.0000), Var(v=0.0103, grad=0.0000), Var(v=0.2007, grad=-0.4750), Var(v=0.0709, grad=0.3976), Var(v=-0.0383, grad=0.2381), Var(v=0.0888, grad=-0.7102), Var(v=-0.0991, grad=0.0000), Var(v=-0.2871, grad=-4.2625), Var(v=0.0026, grad=0.0000), Var(v=-0.0715, grad=-1.8386), Var(v=0.0289, grad=-1.7173), Var(v=-0.0258, grad=0.0000), Var(v=0.2348, grad=0.3232), Var(v=-0.1574, grad=0.0000), Var(v=0.0285, grad=0.0000), Var(v=-0.1019, grad=0.0000), Var(v=-0.0202, grad=0.0000), Var(v=0.0473, grad=0.0000), Var(v=0.1229, grad=-1.6742), Var(v=0.1740, grad=-1.5799)], [Var(v=-0.1982, grad=0.0000), Var(v=-0.1530, grad=0.0000), Var(v=0.0704, grad=0.0000), Var(v=-0.0474, grad=0.9624), Var(v=-0.0524, grad=0.0000), Var(v=0.0093, grad=0.0029), Var(v=0.0932, grad=0.0000), Var(v=0.0340, grad=-0.6010), Var(v=-0.0957, grad=0.0000), Var(v=-0.0155, grad=0.0000), Var(v=-0.2225, grad=0.0000), Var(v=-0.0481, grad=0.3413), Var(v=-0.0392, grad=0.0000), Var(v=0.1327, grad=-0.4608), Var(v=-0.1083, grad=0.0000), Var(v=-0.0663, grad=0.1855), Var(v=-0.0952, grad=0.0000), Var(v=-0.0309, grad=-0.3144), Var(v=-0.0429, grad=-0.1064), Var(v=-0.1718, grad=0.0000), Var(v=0.1516, grad=2.1252), Var(v=-0.0868, grad=0.0000), Var(v=-0.0641, grad=0.0000), Var(v=-0.0876, grad=0.4661), Var(v=0.1078, grad=-1.0361), Var(v=-0.0503, grad=0.0000), Var(v=0.0225, grad=-1.1637), Var(v=0.0573, grad=1.0243), Var(v=0.0272, grad=-2.3091), Var(v=0.0610, grad=2.5588), Var(v=-0.2444, grad=0.0000), Var(v=0.0487, grad=-0.2125), Var(v=0.2338, grad=0.0000), Var(v=-0.0392, grad=0.0000), Var(v=-0.0359, grad=0.0000), Var(v=0.0583, grad=0.5606), Var(v=0.0606, grad=0.0000), Var(v=0.2056, grad=3.3645), Var(v=0.1674, grad=-0.8734), Var(v=0.0910, grad=1.4513), Var(v=-0.0629, grad=0.0000), Var(v=-0.0862, grad=0.0000), Var(v=-0.0376, grad=0.0000), Var(v=-0.1167, grad=0.0000), Var(v=0.0595, grad=0.0000), Var(v=0.0488, grad=0.0000), Var(v=-0.0991, grad=1.6570), Var(v=0.1242, grad=0.1497), Var(v=-0.0063, grad=1.3215), Var(v=0.1181, grad=1.2471)], [Var(v=0.0610, grad=0.0000), Var(v=-0.0041, grad=0.0000), Var(v=0.0168, grad=0.0000), Var(v=-0.0151, grad=0.3731), Var(v=-0.0637, grad=0.0000), Var(v=-0.0278, grad=0.0011), Var(v=0.0074, grad=0.0000), Var(v=0.0696, grad=-0.2330), Var(v=0.0422, grad=0.0000), Var(v=0.0471, grad=0.0000), Var(v=0.0104, grad=0.0000), Var(v=0.0719, grad=0.1323), Var(v=-0.0375, grad=0.0000), Var(v=-0.1850, grad=-0.1786), Var(v=-0.0356, grad=0.0000), Var(v=-0.1166, grad=0.0719), Var(v=-0.0749, grad=0.0000), Var(v=-0.0341, grad=-0.1219), Var(v=0.0254, grad=-0.0412), Var(v=0.0041, grad=0.0000), Var(v=-0.1607, grad=0.8239), Var(v=-0.1926, grad=0.0000), Var(v=-0.0299, grad=0.0000), Var(v=0.1385, grad=0.1807), Var(v=-0.1060, grad=-0.4017), Var(v=-0.1013, grad=0.0000), Var(v=0.0067, grad=-0.4512), Var(v=-0.2503, grad=0.3971), Var(v=0.1213, grad=-0.8952), Var(v=0.0852, grad=0.9920), Var(v=0.0784, grad=0.0000), Var(v=0.2242, grad=-0.0824), Var(v=-0.0455, grad=0.0000), Var(v=0.1306, grad=0.0000), Var(v=-0.1404, grad=0.0000), Var(v=-0.1021, grad=0.2173), Var(v=-0.0129, grad=0.0000), Var(v=-0.0728, grad=1.3044), Var(v=0.1144, grad=-0.3386), Var(v=-0.0577, grad=0.5627), Var(v=0.0165, grad=0.0000), Var(v=0.0232, grad=0.0000), Var(v=-0.0319, grad=0.0000), Var(v=-0.0169, grad=0.0000), Var(v=0.0258, grad=0.0000), Var(v=-0.0021, grad=0.0000), Var(v=0.2327, grad=0.6424), Var(v=0.1773, grad=0.0581), Var(v=0.0398, grad=0.5123), Var(v=0.0008, grad=0.4835)], [Var(v=0.2043, grad=0.2122), Var(v=-0.1117, grad=0.1528), Var(v=0.0299, grad=0.1004), Var(v=0.1768, grad=-0.0947), Var(v=0.1578, grad=0.1380), Var(v=-0.0443, grad=0.0000), Var(v=0.0355, grad=0.0702), Var(v=-0.0721, grad=0.0591), Var(v=0.0715, grad=0.0492), Var(v=0.0784, grad=0.1518), Var(v=0.1065, grad=0.0000), Var(v=0.1088, grad=-0.0336), Var(v=-0.0620, grad=0.0000), Var(v=-0.0108, grad=0.0453), Var(v=0.0980, grad=0.0328), Var(v=0.0848, grad=0.0000), Var(v=-0.1020, grad=0.0546), Var(v=0.0339, grad=0.0309), Var(v=0.0728, grad=0.0000), Var(v=0.1176, grad=0.0146), Var(v=-0.1107, grad=-0.2090), Var(v=0.0478, grad=0.0000), Var(v=0.0753, grad=0.0000), Var(v=-0.1322, grad=-0.0458), Var(v=0.0476, grad=0.0000), Var(v=-0.0230, grad=0.1975), Var(v=0.1887, grad=0.0000), Var(v=0.0467, grad=-0.1008), Var(v=0.0886, grad=0.0000), Var(v=-0.1248, grad=0.0000), Var(v=0.0123, grad=0.0000), Var(v=-0.1770, grad=0.0000), Var(v=-0.0648, grad=-0.0369), Var(v=0.0054, grad=0.0309), Var(v=-0.1264, grad=0.0185), Var(v=0.0515, grad=-0.0551), Var(v=0.0294, grad=0.0000), Var(v=0.0553, grad=-0.3309), Var(v=-0.1478, grad=0.0000), Var(v=-0.0311, grad=-0.1428), Var(v=-0.0435, grad=-0.1333), Var(v=-0.0799, grad=0.0000), Var(v=0.1506, grad=0.0251), Var(v=-0.0066, grad=0.0000), Var(v=0.1078, grad=0.0000), Var(v=-0.0673, grad=0.0000), Var(v=-0.0114, grad=0.0000), Var(v=0.3104, grad=0.0000), Var(v=0.0129, grad=-0.1300), Var(v=0.1993, grad=-0.1227)]] Biases: [Var(v=0.0000, grad=13.5449), Var(v=0.0000, grad=9.7546), Var(v=0.0000, grad=6.4102), Var(v=0.0000, grad=0.0861), Var(v=0.0000, grad=8.8052), Var(v=0.0000, grad=0.0188), Var(v=0.0000, grad=4.4835), Var(v=0.0000, grad=-0.0537), Var(v=0.0000, grad=3.1393), Var(v=0.0000, grad=9.6908), Var(v=0.0000, grad=0.0000), Var(v=0.0000, grad=0.0305), Var(v=0.0000, grad=0.0000), Var(v=0.0000, grad=-0.0412), Var(v=0.0000, grad=2.0906), Var(v=0.0000, grad=1.1808), Var(v=0.0000, grad=3.4854), Var(v=0.0000, grad=-0.0281), Var(v=0.0000, grad=-0.6774), Var(v=0.0000, grad=0.9334), Var(v=0.0000, grad=0.1901), Var(v=0.0000, grad=0.0000), Var(v=0.0000, grad=0.0000), Var(v=0.0000, grad=0.0417), Var(v=0.0000, grad=-6.5973), Var(v=0.0000, grad=12.6069), Var(v=0.0000, grad=-7.4095), Var(v=0.0000, grad=0.0916), Var(v=0.0000, grad=-14.7023), Var(v=0.0000, grad=16.2923), Var(v=0.0000, grad=0.0000), Var(v=0.0000, grad=-1.3532), Var(v=0.0000, grad=-2.3540), Var(v=0.0000, grad=1.9704), Var(v=0.0000, grad=1.1797), Var(v=0.0000, grad=0.0501), Var(v=0.0000, grad=0.0000), Var(v=0.0000, grad=0.3009), Var(v=0.0000, grad=-5.5609), Var(v=0.0000, grad=0.1298), Var(v=0.0000, grad=-8.5095), Var(v=0.0000, grad=0.0000), Var(v=0.0000, grad=1.6014), Var(v=0.0000, grad=0.0000), Var(v=0.0000, grad=0.0000), Var(v=0.0000, grad=0.0000), Var(v=0.0000, grad=10.5501), Var(v=0.0000, grad=0.9534), Var(v=0.0000, grad=0.1182), Var(v=0.0000, grad=0.1115)]\n",
            "Layer 2 \n",
            " Weights: [[Var(v=0.1540, grad=1.9239)], [Var(v=0.1109, grad=1.5515)], [Var(v=0.0729, grad=3.3527)], [Var(v=-0.0687, grad=2.2937)], [Var(v=0.1001, grad=6.5323)], [Var(v=-0.0002, grad=-2.1175)], [Var(v=0.0510, grad=0.0909)], [Var(v=0.0429, grad=2.0716)], [Var(v=0.0357, grad=2.5566)], [Var(v=0.1102, grad=4.2241)], [Var(v=-0.1647, grad=0.0000)], [Var(v=-0.0244, grad=-0.3664)], [Var(v=0.0499, grad=0.0000)], [Var(v=0.0329, grad=5.8169)], [Var(v=0.0238, grad=6.2126)], [Var(v=-0.0132, grad=-1.2218)], [Var(v=0.0396, grad=3.6006)], [Var(v=0.0224, grad=0.2936)], [Var(v=0.0076, grad=-0.8547)], [Var(v=0.0106, grad=0.0019)], [Var(v=-0.1517, grad=-2.6878)], [Var(v=0.0426, grad=0.0000)], [Var(v=-0.1053, grad=0.0000)], [Var(v=-0.0333, grad=-2.3188)], [Var(v=0.0739, grad=-0.3241)], [Var(v=0.1433, grad=1.5996)], [Var(v=0.0830, grad=-3.2516)], [Var(v=-0.0731, grad=1.0956)], [Var(v=0.1648, grad=-2.6839)], [Var(v=-0.1826, grad=-2.2755)], [Var(v=0.1551, grad=0.0000)], [Var(v=0.0152, grad=-1.6968)], [Var(v=-0.0268, grad=0.6640)], [Var(v=0.0224, grad=5.5161)], [Var(v=0.0134, grad=0.3643)], [Var(v=-0.0400, grad=1.4173)], [Var(v=-0.0745, grad=0.0000)], [Var(v=-0.2401, grad=-0.2982)], [Var(v=0.0623, grad=-1.2315)], [Var(v=-0.1036, grad=0.7771)], [Var(v=-0.0967, grad=0.7921)], [Var(v=-0.1460, grad=0.0000)], [Var(v=0.0182, grad=4.2825)], [Var(v=-0.0512, grad=0.0000)], [Var(v=-0.0711, grad=0.0000)], [Var(v=-0.0447, grad=0.0000)], [Var(v=-0.1182, grad=-1.3706)], [Var(v=-0.0107, grad=-6.5130)], [Var(v=-0.0943, grad=0.4731)], [Var(v=-0.0890, grad=-1.2255)]] Biases: [Var(v=0.0000, grad=-1.2532)]\n",
            "\n",
            "Network after update:\n",
            "Layer 0 \n",
            " Weights: [[Var(v=-0.2196, grad=0.5120), Var(v=0.0134, grad=-2.8332), Var(v=-0.0537, grad=8.2103), Var(v=0.1167, grad=-10.5938), Var(v=0.1579, grad=0.6433), Var(v=-0.0213, grad=10.9255), Var(v=-0.1250, grad=4.4147), Var(v=0.0006, grad=3.2634), Var(v=-0.0316, grad=6.5501), Var(v=-0.0480, grad=5.3317), Var(v=0.0488, grad=-8.9252), Var(v=-0.1419, grad=-4.1544), Var(v=0.0720, grad=6.2812), Var(v=0.0909, grad=-3.8652), Var(v=0.0076, grad=-2.1868)]] Biases: [Var(v=0.0047, grad=-0.4654), Var(v=-0.0258, grad=2.5756), Var(v=-0.0705, grad=7.0497), Var(v=0.0910, grad=-9.0963), Var(v=-0.0055, grad=0.5524), Var(v=-0.0938, grad=9.3811), Var(v=0.0401, grad=-4.0133), Var(v=-0.0280, grad=2.8021), Var(v=-0.0562, grad=5.6242), Var(v=-0.0458, grad=4.5780), Var(v=-0.0811, grad=8.1137), Var(v=-0.0378, grad=3.7767), Var(v=-0.0539, grad=5.3933), Var(v=0.0332, grad=-3.3189), Var(v=-0.0199, grad=1.9879)]\n",
            "Layer 1 \n",
            " Weights: [[Var(v=0.0473, grad=3.1955), Var(v=-0.0668, grad=2.3013), Var(v=-0.0400, grad=1.5123), Var(v=0.0661, grad=-1.4253), Var(v=0.0952, grad=2.0773), Var(v=-0.1076, grad=0.0000), Var(v=0.0274, grad=1.0577), Var(v=0.0777, grad=0.8901), Var(v=0.0539, grad=0.7406), Var(v=0.2402, grad=2.2862), Var(v=-0.0021, grad=0.0000), Var(v=0.0681, grad=-0.5055), Var(v=-0.1882, grad=0.0000), Var(v=0.2191, grad=0.6824), Var(v=0.0264, grad=0.4932), Var(v=-0.0405, grad=0.0000), Var(v=0.1418, grad=0.8223), Var(v=0.1010, grad=0.4657), Var(v=-0.1043, grad=0.0000), Var(v=-0.0695, grad=0.2202), Var(v=0.0343, grad=-3.1474), Var(v=-0.0443, grad=0.0000), Var(v=-0.0293, grad=0.0000), Var(v=0.1443, grad=-0.6903), Var(v=-0.0548, grad=0.0000), Var(v=-0.0423, grad=2.9742), Var(v=-0.0226, grad=0.0000), Var(v=-0.0296, grad=-1.5171), Var(v=-0.0688, grad=0.0000), Var(v=-0.1088, grad=0.0000), Var(v=-0.0222, grad=0.0000), Var(v=-0.0478, grad=0.0000), Var(v=-0.0985, grad=-0.5553), Var(v=0.2261, grad=0.4648), Var(v=-0.0461, grad=0.2783), Var(v=0.0658, grad=-0.8302), Var(v=0.0948, grad=0.0000), Var(v=0.3122, grad=-4.9830), Var(v=-0.0604, grad=0.0000), Var(v=0.1915, grad=-2.1494), Var(v=0.0011, grad=-2.0075), Var(v=-0.0455, grad=0.0000), Var(v=-0.0023, grad=0.3778), Var(v=-0.0921, grad=0.0000), Var(v=-0.1685, grad=0.0000), Var(v=-0.0093, grad=0.0000), Var(v=0.0234, grad=0.0000), Var(v=-0.2304, grad=0.0000), Var(v=-0.0335, grad=-1.9572), Var(v=-0.0070, grad=-1.8470)], [Var(v=0.0819, grad=0.2230), Var(v=-0.0153, grad=0.1606), Var(v=-0.1765, grad=0.1056), Var(v=-0.0514, grad=-0.0995), Var(v=-0.1009, grad=0.1450), Var(v=0.0807, grad=0.0000), Var(v=0.2469, grad=0.0738), Var(v=0.0664, grad=0.0621), Var(v=-0.0859, grad=0.0517), Var(v=0.1075, grad=0.1596), Var(v=-0.0391, grad=0.0000), Var(v=0.0051, grad=-0.0353), Var(v=-0.0299, grad=0.0000), Var(v=0.1137, grad=0.0476), Var(v=0.0653, grad=0.0344), Var(v=-0.2017, grad=0.0000), Var(v=-0.0023, grad=0.0574), Var(v=-0.1126, grad=0.0325), Var(v=0.0736, grad=0.0000), Var(v=-0.0362, grad=0.0154), Var(v=0.1451, grad=-0.2197), Var(v=0.0601, grad=0.0000), Var(v=-0.0655, grad=0.0000), Var(v=0.1270, grad=-0.0482), Var(v=-0.0317, grad=0.0000), Var(v=0.1855, grad=0.2076), Var(v=0.1091, grad=0.0000), Var(v=-0.1219, grad=-0.1059), Var(v=0.1703, grad=0.0000), Var(v=0.0705, grad=0.0000), Var(v=-0.1667, grad=0.0000), Var(v=-0.0251, grad=0.0000), Var(v=0.0696, grad=-0.0388), Var(v=-0.0177, grad=0.0324), Var(v=0.1952, grad=0.0194), Var(v=-0.0459, grad=-0.0579), Var(v=0.0701, grad=0.0000), Var(v=-0.0146, grad=-0.3478), Var(v=0.0065, grad=0.0000), Var(v=-0.0872, grad=-0.1500), Var(v=0.0299, grad=-0.1401), Var(v=-0.0637, grad=0.0000), Var(v=0.1409, grad=0.0264), Var(v=-0.0027, grad=0.0000), Var(v=-0.0514, grad=0.0000), Var(v=-0.0065, grad=0.0000), Var(v=0.0320, grad=0.0000), Var(v=0.0069, grad=0.0000), Var(v=0.1248, grad=-0.1366), Var(v=0.0422, grad=-0.1289)], [Var(v=0.0057, grad=0.0000), Var(v=0.0248, grad=0.0000), Var(v=0.0107, grad=0.0000), Var(v=0.0384, grad=0.2029), Var(v=-0.0477, grad=0.0000), Var(v=0.0367, grad=0.0006), Var(v=-0.0550, grad=0.0000), Var(v=-0.0199, grad=-0.1267), Var(v=0.0632, grad=0.0000), Var(v=-0.0615, grad=0.0000), Var(v=0.2980, grad=0.0000), Var(v=0.0306, grad=0.0720), Var(v=0.0651, grad=0.0000), Var(v=0.0323, grad=-0.0971), Var(v=-0.1422, grad=0.0000), Var(v=0.0082, grad=0.0391), Var(v=-0.0366, grad=0.0000), Var(v=-0.0514, grad=-0.0663), Var(v=0.0461, grad=-0.0224), Var(v=-0.1887, grad=0.0000), Var(v=0.1745, grad=0.4480), Var(v=0.0084, grad=0.0000), Var(v=0.0754, grad=0.0000), Var(v=-0.0049, grad=0.0983), Var(v=0.0381, grad=-0.2184), Var(v=0.0381, grad=0.0000), Var(v=0.0012, grad=-0.2453), Var(v=0.0116, grad=0.2160), Var(v=0.0578, grad=-0.4868), Var(v=0.0603, grad=0.5394), Var(v=-0.1194, grad=0.0000), Var(v=0.0383, grad=-0.0448), Var(v=-0.0976, grad=0.0000), Var(v=0.0735, grad=0.0000), Var(v=0.1229, grad=0.0000), Var(v=0.1167, grad=0.1182), Var(v=0.1091, grad=0.0000), Var(v=0.2566, grad=0.7093), Var(v=-0.1084, grad=-0.1841), Var(v=-0.0381, grad=0.3060), Var(v=0.0474, grad=0.0000), Var(v=0.0147, grad=0.0000), Var(v=-0.1367, grad=0.0000), Var(v=-0.2323, grad=0.0000), Var(v=-0.1797, grad=0.0000), Var(v=-0.0834, grad=0.0000), Var(v=-0.1684, grad=0.3493), Var(v=0.0569, grad=0.0316), Var(v=-0.1084, grad=0.2786), Var(v=0.0430, grad=0.2629)], [Var(v=-0.0751, grad=0.0000), Var(v=-0.1447, grad=0.0000), Var(v=-0.0073, grad=0.0000), Var(v=-0.0642, grad=0.0771), Var(v=0.0433, grad=0.0000), Var(v=-0.0108, grad=0.0002), Var(v=-0.1222, grad=0.0000), Var(v=-0.1234, grad=-0.0481), Var(v=0.0022, grad=0.0000), Var(v=-0.0014, grad=0.0000), Var(v=-0.0580, grad=0.0000), Var(v=0.1008, grad=0.0273), Var(v=0.1057, grad=0.0000), Var(v=0.0080, grad=-0.0369), Var(v=0.0832, grad=0.0000), Var(v=0.1012, grad=0.0148), Var(v=0.1572, grad=0.0000), Var(v=0.1105, grad=-0.0252), Var(v=-0.0929, grad=-0.0085), Var(v=-0.1890, grad=0.0000), Var(v=0.0025, grad=0.1702), Var(v=0.0603, grad=0.0000), Var(v=0.0637, grad=0.0000), Var(v=0.0038, grad=0.0373), Var(v=-0.0269, grad=-0.0830), Var(v=0.0720, grad=0.0000), Var(v=-0.0441, grad=-0.0932), Var(v=0.0124, grad=0.0820), Var(v=0.1849, grad=-0.1849), Var(v=-0.1361, grad=0.2049), Var(v=0.1329, grad=0.0000), Var(v=0.0142, grad=-0.0170), Var(v=0.0642, grad=0.0000), Var(v=0.0748, grad=0.0000), Var(v=0.1579, grad=0.0000), Var(v=-0.1302, grad=0.0449), Var(v=-0.1311, grad=0.0000), Var(v=-0.1398, grad=0.2694), Var(v=-0.0290, grad=-0.0699), Var(v=-0.1168, grad=0.1162), Var(v=0.0117, grad=0.0000), Var(v=0.0666, grad=0.0000), Var(v=0.0380, grad=0.0000), Var(v=-0.0075, grad=0.0000), Var(v=0.1964, grad=0.0000), Var(v=-0.0593, grad=0.0000), Var(v=0.0322, grad=0.1327), Var(v=-0.0297, grad=0.0120), Var(v=-0.0386, grad=0.1058), Var(v=-0.1048, grad=0.0998)], [Var(v=0.0062, grad=0.0000), Var(v=0.0172, grad=0.0000), Var(v=-0.1239, grad=0.0000), Var(v=-0.1141, grad=1.1728), Var(v=-0.0567, grad=0.0000), Var(v=0.0708, grad=0.0036), Var(v=-0.0770, grad=0.0000), Var(v=0.0309, grad=-0.7324), Var(v=-0.0623, grad=0.0000), Var(v=-0.0694, grad=0.0000), Var(v=-0.0527, grad=0.0000), Var(v=0.2339, grad=0.4160), Var(v=-0.0478, grad=0.0000), Var(v=0.1227, grad=-0.5615), Var(v=-0.0479, grad=0.0000), Var(v=0.0678, grad=0.2260), Var(v=0.0184, grad=0.0000), Var(v=0.0870, grad=-0.3832), Var(v=0.0646, grad=-0.1297), Var(v=-0.0389, grad=0.0000), Var(v=0.1318, grad=2.5898), Var(v=0.0170, grad=0.0000), Var(v=-0.1355, grad=0.0000), Var(v=0.0244, grad=0.5680), Var(v=-0.1437, grad=-1.2627), Var(v=0.0807, grad=0.0000), Var(v=0.1893, grad=-1.4181), Var(v=-0.0117, grad=1.2483), Var(v=0.1870, grad=-2.8140), Var(v=-0.0508, grad=3.1183), Var(v=0.1005, grad=0.0000), Var(v=0.0123, grad=-0.2590), Var(v=-0.0917, grad=0.0000), Var(v=-0.0310, grad=0.0000), Var(v=-0.1051, grad=0.0000), Var(v=-0.0282, grad=0.6831), Var(v=-0.0476, grad=0.0000), Var(v=-0.1012, grad=4.1002), Var(v=-0.0430, grad=-1.0643), Var(v=0.1319, grad=1.7686), Var(v=-0.1419, grad=0.0000), Var(v=-0.0234, grad=0.0000), Var(v=-0.0873, grad=0.0000), Var(v=-0.2287, grad=0.0000), Var(v=-0.0418, grad=0.0000), Var(v=-0.1039, grad=0.0000), Var(v=-0.0303, grad=2.0193), Var(v=0.1647, grad=0.1825), Var(v=0.1217, grad=1.6104), Var(v=0.0355, grad=1.5198)], [Var(v=0.0647, grad=0.0000), Var(v=-0.1599, grad=0.0000), Var(v=-0.0950, grad=0.0000), Var(v=0.2806, grad=0.6277), Var(v=0.0129, grad=0.0000), Var(v=0.0717, grad=0.0019), Var(v=-0.0844, grad=0.0000), Var(v=0.0156, grad=-0.3920), Var(v=-0.0228, grad=0.0000), Var(v=-0.1126, grad=0.0000), Var(v=-0.0351, grad=0.0000), Var(v=0.0639, grad=0.2226), Var(v=-0.1130, grad=0.0000), Var(v=0.0133, grad=-0.3005), Var(v=0.0523, grad=0.0000), Var(v=0.1391, grad=0.1210), Var(v=-0.0877, grad=0.0000), Var(v=0.0210, grad=-0.2051), Var(v=0.0823, grad=-0.0694), Var(v=-0.0043, grad=0.0000), Var(v=0.2194, grad=1.3862), Var(v=-0.1731, grad=0.0000), Var(v=-0.1581, grad=0.0000), Var(v=0.2450, grad=0.3040), Var(v=0.2225, grad=-0.6758), Var(v=-0.1786, grad=0.0000), Var(v=-0.0235, grad=-0.7590), Var(v=0.0089, grad=0.6681), Var(v=-0.1286, grad=-1.5061), Var(v=0.1214, grad=1.6690), Var(v=0.0521, grad=0.0000), Var(v=-0.0586, grad=-0.1386), Var(v=-0.2047, grad=0.0000), Var(v=-0.1329, grad=0.0000), Var(v=-0.0101, grad=0.0000), Var(v=0.0148, grad=0.3656), Var(v=-0.0350, grad=0.0000), Var(v=-0.1404, grad=2.1946), Var(v=-0.0067, grad=-0.5697), Var(v=0.0258, grad=0.9466), Var(v=-0.1773, grad=0.0000), Var(v=-0.0213, grad=0.0000), Var(v=-0.1613, grad=0.0000), Var(v=-0.0505, grad=0.0000), Var(v=0.0177, grad=0.0000), Var(v=-0.0709, grad=0.0000), Var(v=0.1862, grad=1.0808), Var(v=0.0474, grad=0.0977), Var(v=-0.0482, grad=0.8619), Var(v=0.0575, grad=0.8134)], [Var(v=-0.0890, grad=1.2042), Var(v=-0.0568, grad=0.8672), Var(v=0.1987, grad=0.5699), Var(v=-0.0882, grad=-0.5371), Var(v=0.2957, grad=0.7828), Var(v=-0.0192, grad=0.0000), Var(v=-0.0187, grad=0.3986), Var(v=0.1327, grad=0.3354), Var(v=0.0481, grad=0.2791), Var(v=0.1176, grad=0.8616), Var(v=0.0335, grad=0.0000), Var(v=0.0583, grad=-0.1905), Var(v=-0.0015, grad=0.0000), Var(v=0.1141, grad=0.2572), Var(v=0.1654, grad=0.1859), Var(v=0.0384, grad=0.0000), Var(v=-0.0770, grad=0.3099), Var(v=0.0834, grad=0.1755), Var(v=0.0035, grad=0.0000), Var(v=0.1153, grad=0.0830), Var(v=0.1123, grad=-1.1861), Var(v=-0.1115, grad=0.0000), Var(v=0.1158, grad=0.0000), Var(v=0.0525, grad=-0.2601), Var(v=0.0435, grad=0.0000), Var(v=-0.0648, grad=1.1208), Var(v=-0.1073, grad=0.0000), Var(v=0.0989, grad=-0.5717), Var(v=-0.0508, grad=0.0000), Var(v=0.0546, grad=0.0000), Var(v=-0.0465, grad=0.0000), Var(v=0.1080, grad=0.0000), Var(v=-0.0102, grad=-0.2093), Var(v=-0.0506, grad=0.1752), Var(v=0.2166, grad=0.1049), Var(v=-0.2259, grad=-0.3129), Var(v=-0.0725, grad=0.0000), Var(v=0.1624, grad=-1.8778), Var(v=0.0756, grad=0.0000), Var(v=0.1875, grad=-0.8100), Var(v=0.1553, grad=-0.7565), Var(v=0.0359, grad=0.0000), Var(v=-0.0051, grad=0.1424), Var(v=-0.0204, grad=0.0000), Var(v=0.2061, grad=0.0000), Var(v=0.0763, grad=0.0000), Var(v=-0.0789, grad=0.0000), Var(v=0.0168, grad=0.0000), Var(v=0.1458, grad=-0.7376), Var(v=0.0863, grad=-0.6960)], [Var(v=0.0402, grad=0.0000), Var(v=-0.1741, grad=0.0000), Var(v=0.2200, grad=0.0000), Var(v=-0.0714, grad=0.2371), Var(v=0.1747, grad=0.0000), Var(v=-0.0945, grad=0.0007), Var(v=-0.0320, grad=0.0000), Var(v=0.0208, grad=-0.1480), Var(v=-0.2031, grad=0.0000), Var(v=-0.0167, grad=0.0000), Var(v=-0.0396, grad=0.0000), Var(v=-0.1332, grad=0.0841), Var(v=0.0995, grad=0.0000), Var(v=0.0014, grad=-0.1135), Var(v=-0.0312, grad=0.0000), Var(v=0.0749, grad=0.0457), Var(v=-0.0454, grad=0.0000), Var(v=0.0624, grad=-0.0775), Var(v=-0.0307, grad=-0.0262), Var(v=-0.1123, grad=0.0000), Var(v=-0.1026, grad=0.5235), Var(v=0.0255, grad=0.0000), Var(v=-0.0655, grad=0.0000), Var(v=0.0392, grad=0.1148), Var(v=0.0130, grad=-0.2552), Var(v=0.0235, grad=0.0000), Var(v=0.1216, grad=-0.2867), Var(v=0.0932, grad=0.2523), Var(v=-0.0805, grad=-0.5688), Var(v=0.0634, grad=0.6303), Var(v=-0.0422, grad=0.0000), Var(v=-0.0873, grad=-0.0524), Var(v=-0.0807, grad=0.0000), Var(v=-0.0553, grad=0.0000), Var(v=-0.0396, grad=0.0000), Var(v=0.1309, grad=0.1381), Var(v=0.0513, grad=0.0000), Var(v=-0.0174, grad=0.8288), Var(v=0.0054, grad=-0.2151), Var(v=-0.0772, grad=0.3575), Var(v=0.1448, grad=0.0000), Var(v=-0.0170, grad=0.0000), Var(v=0.0313, grad=0.0000), Var(v=-0.0897, grad=0.0000), Var(v=-0.1015, grad=0.0000), Var(v=0.0195, grad=0.0000), Var(v=0.0783, grad=0.4082), Var(v=-0.0480, grad=0.0369), Var(v=0.1009, grad=0.3255), Var(v=0.1638, grad=0.3072)], [Var(v=0.0099, grad=0.0000), Var(v=-0.0219, grad=0.0000), Var(v=0.0636, grad=0.0000), Var(v=0.1014, grad=0.2422), Var(v=0.1691, grad=0.0000), Var(v=0.1277, grad=0.0007), Var(v=-0.0640, grad=0.0000), Var(v=0.1810, grad=-0.1512), Var(v=0.0287, grad=0.0000), Var(v=-0.0086, grad=0.0000), Var(v=0.0719, grad=0.0000), Var(v=0.0660, grad=0.0859), Var(v=-0.0406, grad=0.0000), Var(v=-0.1231, grad=-0.1159), Var(v=-0.2182, grad=0.0000), Var(v=-0.0334, grad=0.0467), Var(v=0.0355, grad=0.0000), Var(v=0.0074, grad=-0.0791), Var(v=-0.0927, grad=-0.0268), Var(v=0.0780, grad=0.0000), Var(v=0.0347, grad=0.5347), Var(v=-0.0427, grad=0.0000), Var(v=-0.0885, grad=0.0000), Var(v=0.0598, grad=0.1173), Var(v=-0.0196, grad=-0.2607), Var(v=-0.0161, grad=0.0000), Var(v=-0.0651, grad=-0.2928), Var(v=0.0966, grad=0.2578), Var(v=0.0646, grad=-0.5810), Var(v=-0.0792, grad=0.6439), Var(v=-0.0412, grad=0.0000), Var(v=0.0809, grad=-0.0535), Var(v=-0.1047, grad=0.0000), Var(v=-0.0659, grad=0.0000), Var(v=-0.0394, grad=0.0000), Var(v=-0.1757, grad=0.1411), Var(v=-0.1154, grad=0.0000), Var(v=0.2434, grad=0.8466), Var(v=-0.1112, grad=-0.2198), Var(v=-0.1349, grad=0.3652), Var(v=0.0237, grad=0.0000), Var(v=0.1255, grad=0.0000), Var(v=-0.0462, grad=0.0000), Var(v=-0.0361, grad=0.0000), Var(v=0.0427, grad=0.0000), Var(v=0.1115, grad=0.0000), Var(v=0.0077, grad=0.4169), Var(v=0.1645, grad=0.0377), Var(v=-0.0115, grad=0.3325), Var(v=0.1084, grad=0.3138)], [Var(v=0.0265, grad=0.0000), Var(v=-0.0764, grad=0.0000), Var(v=0.1039, grad=0.0000), Var(v=0.0800, grad=0.0378), Var(v=-0.0909, grad=0.0000), Var(v=0.0961, grad=0.0001), Var(v=0.0087, grad=0.0000), Var(v=-0.0468, grad=-0.0236), Var(v=0.0155, grad=0.0000), Var(v=-0.1366, grad=0.0000), Var(v=-0.0028, grad=0.0000), Var(v=0.1466, grad=0.0134), Var(v=0.0234, grad=0.0000), Var(v=-0.0009, grad=-0.0181), Var(v=0.1369, grad=0.0000), Var(v=0.0432, grad=0.0073), Var(v=-0.0766, grad=0.0000), Var(v=0.0363, grad=-0.0124), Var(v=-0.1916, grad=-0.0042), Var(v=0.0918, grad=0.0000), Var(v=0.1669, grad=0.0835), Var(v=-0.0006, grad=0.0000), Var(v=0.0552, grad=0.0000), Var(v=0.1196, grad=0.0183), Var(v=0.0988, grad=-0.0407), Var(v=-0.0066, grad=0.0000), Var(v=0.1417, grad=-0.0457), Var(v=0.0453, grad=0.0403), Var(v=-0.0482, grad=-0.0908), Var(v=0.0060, grad=0.1006), Var(v=0.0487, grad=0.0000), Var(v=0.1276, grad=-0.0084), Var(v=0.0479, grad=0.0000), Var(v=-0.1868, grad=0.0000), Var(v=-0.0711, grad=0.0000), Var(v=-0.0499, grad=0.0220), Var(v=0.0620, grad=0.0000), Var(v=0.1073, grad=0.1323), Var(v=0.0736, grad=-0.0343), Var(v=-0.0967, grad=0.0571), Var(v=0.0454, grad=0.0000), Var(v=-0.0351, grad=0.0000), Var(v=-0.0348, grad=0.0000), Var(v=0.0659, grad=0.0000), Var(v=0.1094, grad=0.0000), Var(v=-0.0914, grad=0.0000), Var(v=-0.0199, grad=0.0651), Var(v=-0.0516, grad=0.0059), Var(v=0.1805, grad=0.0520), Var(v=-0.0691, grad=0.0490)], [Var(v=0.1556, grad=0.6021), Var(v=-0.0865, grad=0.4336), Var(v=0.1881, grad=0.2850), Var(v=0.0910, grad=-0.2686), Var(v=0.1506, grad=0.3914), Var(v=-0.0390, grad=0.0000), Var(v=0.1919, grad=0.1993), Var(v=-0.0346, grad=0.1677), Var(v=0.0441, grad=0.1396), Var(v=0.1341, grad=0.4308), Var(v=-0.0455, grad=0.0000), Var(v=0.0962, grad=-0.0953), Var(v=0.1435, grad=0.0000), Var(v=-0.0626, grad=0.1286), Var(v=0.1726, grad=0.0929), Var(v=-0.0477, grad=0.0000), Var(v=-0.0600, grad=0.1549), Var(v=-0.0566, grad=0.0877), Var(v=-0.1440, grad=0.0000), Var(v=-0.0152, grad=0.0415), Var(v=0.0236, grad=-0.5931), Var(v=0.0203, grad=0.0000), Var(v=0.0002, grad=0.0000), Var(v=0.0321, grad=-0.1301), Var(v=0.0714, grad=0.0000), Var(v=0.1854, grad=0.5604), Var(v=-0.0724, grad=0.0000), Var(v=-0.0061, grad=-0.2859), Var(v=0.0041, grad=0.0000), Var(v=-0.0423, grad=0.0000), Var(v=0.0547, grad=0.0000), Var(v=-0.0370, grad=0.0000), Var(v=-0.1662, grad=-0.1046), Var(v=-0.0346, grad=0.0876), Var(v=0.0334, grad=0.0524), Var(v=0.1343, grad=-0.1564), Var(v=-0.0050, grad=0.0000), Var(v=0.0345, grad=-0.9390), Var(v=-0.0523, grad=0.0000), Var(v=0.0351, grad=-0.4050), Var(v=-0.1148, grad=-0.3783), Var(v=0.0793, grad=0.0000), Var(v=-0.0770, grad=0.0712), Var(v=0.0134, grad=0.0000), Var(v=-0.0809, grad=0.0000), Var(v=-0.0129, grad=0.0000), Var(v=0.0824, grad=0.0000), Var(v=0.0730, grad=0.0000), Var(v=0.0825, grad=-0.3688), Var(v=-0.1668, grad=-0.3480)], [Var(v=-0.0361, grad=2.7335), Var(v=0.1680, grad=1.9685), Var(v=0.0849, grad=1.2936), Var(v=0.1125, grad=-1.2192), Var(v=0.0428, grad=1.7769), Var(v=0.0155, grad=0.0000), Var(v=-0.1075, grad=0.9048), Var(v=0.0587, grad=0.7614), Var(v=0.0350, grad=0.6335), Var(v=-0.1902, grad=1.9557), Var(v=-0.0907, grad=0.0000), Var(v=0.1062, grad=-0.4324), Var(v=0.1017, grad=0.0000), Var(v=0.1584, grad=0.5838), Var(v=0.1842, grad=0.4219), Var(v=-0.0574, grad=0.0000), Var(v=0.0739, grad=0.7034), Var(v=-0.0620, grad=0.3983), Var(v=0.0018, grad=0.0000), Var(v=0.0228, grad=0.1884), Var(v=0.1875, grad=-2.6923), Var(v=0.0489, grad=0.0000), Var(v=-0.0916, grad=0.0000), Var(v=-0.1610, grad=-0.5904), Var(v=-0.0331, grad=0.0000), Var(v=0.0474, grad=2.5442), Var(v=-0.0778, grad=0.0000), Var(v=0.1146, grad=-1.2977), Var(v=-0.1427, grad=0.0000), Var(v=-0.0907, grad=0.0000), Var(v=-0.0958, grad=0.0000), Var(v=0.0103, grad=0.0000), Var(v=0.2055, grad=-0.4750), Var(v=0.0670, grad=0.3976), Var(v=-0.0407, grad=0.2381), Var(v=0.0959, grad=-0.7102), Var(v=-0.0991, grad=0.0000), Var(v=-0.2445, grad=-4.2625), Var(v=0.0026, grad=0.0000), Var(v=-0.0531, grad=-1.8386), Var(v=0.0461, grad=-1.7173), Var(v=-0.0258, grad=0.0000), Var(v=0.2315, grad=0.3232), Var(v=-0.1574, grad=0.0000), Var(v=0.0285, grad=0.0000), Var(v=-0.1019, grad=0.0000), Var(v=-0.0202, grad=0.0000), Var(v=0.0473, grad=0.0000), Var(v=0.1396, grad=-1.6742), Var(v=0.1898, grad=-1.5799)], [Var(v=-0.1982, grad=0.0000), Var(v=-0.1530, grad=0.0000), Var(v=0.0704, grad=0.0000), Var(v=-0.0571, grad=0.9624), Var(v=-0.0524, grad=0.0000), Var(v=0.0093, grad=0.0029), Var(v=0.0932, grad=0.0000), Var(v=0.0400, grad=-0.6010), Var(v=-0.0957, grad=0.0000), Var(v=-0.0155, grad=0.0000), Var(v=-0.2225, grad=0.0000), Var(v=-0.0515, grad=0.3413), Var(v=-0.0392, grad=0.0000), Var(v=0.1373, grad=-0.4608), Var(v=-0.1083, grad=0.0000), Var(v=-0.0682, grad=0.1855), Var(v=-0.0952, grad=0.0000), Var(v=-0.0277, grad=-0.3144), Var(v=-0.0418, grad=-0.1064), Var(v=-0.1718, grad=0.0000), Var(v=0.1304, grad=2.1252), Var(v=-0.0868, grad=0.0000), Var(v=-0.0641, grad=0.0000), Var(v=-0.0922, grad=0.4661), Var(v=0.1182, grad=-1.0361), Var(v=-0.0503, grad=0.0000), Var(v=0.0341, grad=-1.1637), Var(v=0.0470, grad=1.0243), Var(v=0.0502, grad=-2.3091), Var(v=0.0354, grad=2.5588), Var(v=-0.2444, grad=0.0000), Var(v=0.0509, grad=-0.2125), Var(v=0.2338, grad=0.0000), Var(v=-0.0392, grad=0.0000), Var(v=-0.0359, grad=0.0000), Var(v=0.0527, grad=0.5606), Var(v=0.0606, grad=0.0000), Var(v=0.1719, grad=3.3645), Var(v=0.1762, grad=-0.8734), Var(v=0.0765, grad=1.4513), Var(v=-0.0629, grad=0.0000), Var(v=-0.0862, grad=0.0000), Var(v=-0.0376, grad=0.0000), Var(v=-0.1167, grad=0.0000), Var(v=0.0595, grad=0.0000), Var(v=0.0488, grad=0.0000), Var(v=-0.1157, grad=1.6570), Var(v=0.1227, grad=0.1497), Var(v=-0.0195, grad=1.3215), Var(v=0.1057, grad=1.2471)], [Var(v=0.0610, grad=0.0000), Var(v=-0.0041, grad=0.0000), Var(v=0.0168, grad=0.0000), Var(v=-0.0189, grad=0.3731), Var(v=-0.0637, grad=0.0000), Var(v=-0.0278, grad=0.0011), Var(v=0.0074, grad=0.0000), Var(v=0.0719, grad=-0.2330), Var(v=0.0422, grad=0.0000), Var(v=0.0471, grad=0.0000), Var(v=0.0104, grad=0.0000), Var(v=0.0706, grad=0.1323), Var(v=-0.0375, grad=0.0000), Var(v=-0.1832, grad=-0.1786), Var(v=-0.0356, grad=0.0000), Var(v=-0.1173, grad=0.0719), Var(v=-0.0749, grad=0.0000), Var(v=-0.0329, grad=-0.1219), Var(v=0.0258, grad=-0.0412), Var(v=0.0041, grad=0.0000), Var(v=-0.1690, grad=0.8239), Var(v=-0.1926, grad=0.0000), Var(v=-0.0299, grad=0.0000), Var(v=0.1367, grad=0.1807), Var(v=-0.1020, grad=-0.4017), Var(v=-0.1013, grad=0.0000), Var(v=0.0112, grad=-0.4512), Var(v=-0.2543, grad=0.3971), Var(v=0.1303, grad=-0.8952), Var(v=0.0753, grad=0.9920), Var(v=0.0784, grad=0.0000), Var(v=0.2250, grad=-0.0824), Var(v=-0.0455, grad=0.0000), Var(v=0.1306, grad=0.0000), Var(v=-0.1404, grad=0.0000), Var(v=-0.1042, grad=0.2173), Var(v=-0.0129, grad=0.0000), Var(v=-0.0858, grad=1.3044), Var(v=0.1178, grad=-0.3386), Var(v=-0.0633, grad=0.5627), Var(v=0.0165, grad=0.0000), Var(v=0.0232, grad=0.0000), Var(v=-0.0319, grad=0.0000), Var(v=-0.0169, grad=0.0000), Var(v=0.0258, grad=0.0000), Var(v=-0.0021, grad=0.0000), Var(v=0.2263, grad=0.6424), Var(v=0.1767, grad=0.0581), Var(v=0.0347, grad=0.5123), Var(v=-0.0040, grad=0.4835)], [Var(v=0.2022, grad=0.2122), Var(v=-0.1133, grad=0.1528), Var(v=0.0289, grad=0.1004), Var(v=0.1778, grad=-0.0947), Var(v=0.1564, grad=0.1380), Var(v=-0.0443, grad=0.0000), Var(v=0.0348, grad=0.0702), Var(v=-0.0727, grad=0.0591), Var(v=0.0710, grad=0.0492), Var(v=0.0769, grad=0.1518), Var(v=0.1065, grad=0.0000), Var(v=0.1091, grad=-0.0336), Var(v=-0.0620, grad=0.0000), Var(v=-0.0113, grad=0.0453), Var(v=0.0976, grad=0.0328), Var(v=0.0848, grad=0.0000), Var(v=-0.1025, grad=0.0546), Var(v=0.0336, grad=0.0309), Var(v=0.0728, grad=0.0000), Var(v=0.1174, grad=0.0146), Var(v=-0.1086, grad=-0.2090), Var(v=0.0478, grad=0.0000), Var(v=0.0753, grad=0.0000), Var(v=-0.1317, grad=-0.0458), Var(v=0.0476, grad=0.0000), Var(v=-0.0249, grad=0.1975), Var(v=0.1887, grad=0.0000), Var(v=0.0477, grad=-0.1008), Var(v=0.0886, grad=0.0000), Var(v=-0.1248, grad=0.0000), Var(v=0.0123, grad=0.0000), Var(v=-0.1770, grad=0.0000), Var(v=-0.0644, grad=-0.0369), Var(v=0.0051, grad=0.0309), Var(v=-0.1266, grad=0.0185), Var(v=0.0521, grad=-0.0551), Var(v=0.0294, grad=0.0000), Var(v=0.0586, grad=-0.3309), Var(v=-0.1478, grad=0.0000), Var(v=-0.0296, grad=-0.1428), Var(v=-0.0422, grad=-0.1333), Var(v=-0.0799, grad=0.0000), Var(v=0.1504, grad=0.0251), Var(v=-0.0066, grad=0.0000), Var(v=0.1078, grad=0.0000), Var(v=-0.0673, grad=0.0000), Var(v=-0.0114, grad=0.0000), Var(v=0.3104, grad=0.0000), Var(v=0.0142, grad=-0.1300), Var(v=0.2005, grad=-0.1227)]] Biases: [Var(v=-0.1354, grad=13.5449), Var(v=-0.0975, grad=9.7546), Var(v=-0.0641, grad=6.4102), Var(v=-0.0009, grad=0.0861), Var(v=-0.0881, grad=8.8052), Var(v=-0.0002, grad=0.0188), Var(v=-0.0448, grad=4.4835), Var(v=0.0005, grad=-0.0537), Var(v=-0.0314, grad=3.1393), Var(v=-0.0969, grad=9.6908), Var(v=0.0000, grad=0.0000), Var(v=-0.0003, grad=0.0305), Var(v=0.0000, grad=0.0000), Var(v=0.0004, grad=-0.0412), Var(v=-0.0209, grad=2.0906), Var(v=-0.0118, grad=1.1808), Var(v=-0.0349, grad=3.4854), Var(v=0.0003, grad=-0.0281), Var(v=0.0068, grad=-0.6774), Var(v=-0.0093, grad=0.9334), Var(v=-0.0019, grad=0.1901), Var(v=0.0000, grad=0.0000), Var(v=0.0000, grad=0.0000), Var(v=-0.0004, grad=0.0417), Var(v=0.0660, grad=-6.5973), Var(v=-0.1261, grad=12.6069), Var(v=0.0741, grad=-7.4095), Var(v=-0.0009, grad=0.0916), Var(v=0.1470, grad=-14.7023), Var(v=-0.1629, grad=16.2923), Var(v=0.0000, grad=0.0000), Var(v=0.0135, grad=-1.3532), Var(v=0.0235, grad=-2.3540), Var(v=-0.0197, grad=1.9704), Var(v=-0.0118, grad=1.1797), Var(v=-0.0005, grad=0.0501), Var(v=0.0000, grad=0.0000), Var(v=-0.0030, grad=0.3009), Var(v=0.0556, grad=-5.5609), Var(v=-0.0013, grad=0.1298), Var(v=0.0851, grad=-8.5095), Var(v=0.0000, grad=0.0000), Var(v=-0.0160, grad=1.6014), Var(v=0.0000, grad=0.0000), Var(v=0.0000, grad=0.0000), Var(v=0.0000, grad=0.0000), Var(v=-0.1055, grad=10.5501), Var(v=-0.0095, grad=0.9534), Var(v=-0.0012, grad=0.1182), Var(v=-0.0011, grad=0.1115)]\n",
            "Layer 2 \n",
            " Weights: [[Var(v=0.1347, grad=1.9239)], [Var(v=0.0954, grad=1.5515)], [Var(v=0.0393, grad=3.3527)], [Var(v=-0.0916, grad=2.2937)], [Var(v=0.0348, grad=6.5323)], [Var(v=0.0210, grad=-2.1175)], [Var(v=0.0501, grad=0.0909)], [Var(v=0.0222, grad=2.0716)], [Var(v=0.0101, grad=2.5566)], [Var(v=0.0679, grad=4.2241)], [Var(v=-0.1647, grad=0.0000)], [Var(v=-0.0207, grad=-0.3664)], [Var(v=0.0499, grad=0.0000)], [Var(v=-0.0253, grad=5.8169)], [Var(v=-0.0384, grad=6.2126)], [Var(v=-0.0010, grad=-1.2218)], [Var(v=0.0036, grad=3.6006)], [Var(v=0.0195, grad=0.2936)], [Var(v=0.0161, grad=-0.8547)], [Var(v=0.0106, grad=0.0019)], [Var(v=-0.1248, grad=-2.6878)], [Var(v=0.0426, grad=0.0000)], [Var(v=-0.1053, grad=0.0000)], [Var(v=-0.0101, grad=-2.3188)], [Var(v=0.0772, grad=-0.3241)], [Var(v=0.1273, grad=1.5996)], [Var(v=0.1156, grad=-3.2516)], [Var(v=-0.0841, grad=1.0956)], [Var(v=0.1916, grad=-2.6839)], [Var(v=-0.1599, grad=-2.2755)], [Var(v=0.1551, grad=0.0000)], [Var(v=0.0321, grad=-1.6968)], [Var(v=-0.0334, grad=0.6640)], [Var(v=-0.0328, grad=5.5161)], [Var(v=0.0098, grad=0.3643)], [Var(v=-0.0542, grad=1.4173)], [Var(v=-0.0745, grad=0.0000)], [Var(v=-0.2371, grad=-0.2982)], [Var(v=0.0746, grad=-1.2315)], [Var(v=-0.1113, grad=0.7771)], [Var(v=-0.1047, grad=0.7921)], [Var(v=-0.1460, grad=0.0000)], [Var(v=-0.0246, grad=4.2825)], [Var(v=-0.0512, grad=0.0000)], [Var(v=-0.0711, grad=0.0000)], [Var(v=-0.0447, grad=0.0000)], [Var(v=-0.1045, grad=-1.3706)], [Var(v=0.0544, grad=-6.5130)], [Var(v=-0.0990, grad=0.4731)], [Var(v=-0.0767, grad=-1.2255)]] Biases: [Var(v=0.0125, grad=-1.2532)]\n",
            "\n",
            "Network after zeroing gradients:\n",
            "Layer 0 \n",
            " Weights: [[Var(v=-0.2196, grad=0.0000), Var(v=0.0134, grad=0.0000), Var(v=-0.0537, grad=0.0000), Var(v=0.1167, grad=0.0000), Var(v=0.1579, grad=0.0000), Var(v=-0.0213, grad=0.0000), Var(v=-0.1250, grad=0.0000), Var(v=0.0006, grad=0.0000), Var(v=-0.0316, grad=0.0000), Var(v=-0.0480, grad=0.0000), Var(v=0.0488, grad=0.0000), Var(v=-0.1419, grad=0.0000), Var(v=0.0720, grad=0.0000), Var(v=0.0909, grad=0.0000), Var(v=0.0076, grad=0.0000)]] Biases: [Var(v=0.0047, grad=0.0000), Var(v=-0.0258, grad=0.0000), Var(v=-0.0705, grad=0.0000), Var(v=0.0910, grad=0.0000), Var(v=-0.0055, grad=0.0000), Var(v=-0.0938, grad=0.0000), Var(v=0.0401, grad=0.0000), Var(v=-0.0280, grad=0.0000), Var(v=-0.0562, grad=0.0000), Var(v=-0.0458, grad=0.0000), Var(v=-0.0811, grad=0.0000), Var(v=-0.0378, grad=0.0000), Var(v=-0.0539, grad=0.0000), Var(v=0.0332, grad=0.0000), Var(v=-0.0199, grad=0.0000)]\n",
            "Layer 1 \n",
            " Weights: [[Var(v=0.0473, grad=0.0000), Var(v=-0.0668, grad=0.0000), Var(v=-0.0400, grad=0.0000), Var(v=0.0661, grad=0.0000), Var(v=0.0952, grad=0.0000), Var(v=-0.1076, grad=0.0000), Var(v=0.0274, grad=0.0000), Var(v=0.0777, grad=0.0000), Var(v=0.0539, grad=0.0000), Var(v=0.2402, grad=0.0000), Var(v=-0.0021, grad=0.0000), Var(v=0.0681, grad=0.0000), Var(v=-0.1882, grad=0.0000), Var(v=0.2191, grad=0.0000), Var(v=0.0264, grad=0.0000), Var(v=-0.0405, grad=0.0000), Var(v=0.1418, grad=0.0000), Var(v=0.1010, grad=0.0000), Var(v=-0.1043, grad=0.0000), Var(v=-0.0695, grad=0.0000), Var(v=0.0343, grad=0.0000), Var(v=-0.0443, grad=0.0000), Var(v=-0.0293, grad=0.0000), Var(v=0.1443, grad=0.0000), Var(v=-0.0548, grad=0.0000), Var(v=-0.0423, grad=0.0000), Var(v=-0.0226, grad=0.0000), Var(v=-0.0296, grad=0.0000), Var(v=-0.0688, grad=0.0000), Var(v=-0.1088, grad=0.0000), Var(v=-0.0222, grad=0.0000), Var(v=-0.0478, grad=0.0000), Var(v=-0.0985, grad=0.0000), Var(v=0.2261, grad=0.0000), Var(v=-0.0461, grad=0.0000), Var(v=0.0658, grad=0.0000), Var(v=0.0948, grad=0.0000), Var(v=0.3122, grad=0.0000), Var(v=-0.0604, grad=0.0000), Var(v=0.1915, grad=0.0000), Var(v=0.0011, grad=0.0000), Var(v=-0.0455, grad=0.0000), Var(v=-0.0023, grad=0.0000), Var(v=-0.0921, grad=0.0000), Var(v=-0.1685, grad=0.0000), Var(v=-0.0093, grad=0.0000), Var(v=0.0234, grad=0.0000), Var(v=-0.2304, grad=0.0000), Var(v=-0.0335, grad=0.0000), Var(v=-0.0070, grad=0.0000)], [Var(v=0.0819, grad=0.0000), Var(v=-0.0153, grad=0.0000), Var(v=-0.1765, grad=0.0000), Var(v=-0.0514, grad=0.0000), Var(v=-0.1009, grad=0.0000), Var(v=0.0807, grad=0.0000), Var(v=0.2469, grad=0.0000), Var(v=0.0664, grad=0.0000), Var(v=-0.0859, grad=0.0000), Var(v=0.1075, grad=0.0000), Var(v=-0.0391, grad=0.0000), Var(v=0.0051, grad=0.0000), Var(v=-0.0299, grad=0.0000), Var(v=0.1137, grad=0.0000), Var(v=0.0653, grad=0.0000), Var(v=-0.2017, grad=0.0000), Var(v=-0.0023, grad=0.0000), Var(v=-0.1126, grad=0.0000), Var(v=0.0736, grad=0.0000), Var(v=-0.0362, grad=0.0000), Var(v=0.1451, grad=0.0000), Var(v=0.0601, grad=0.0000), Var(v=-0.0655, grad=0.0000), Var(v=0.1270, grad=0.0000), Var(v=-0.0317, grad=0.0000), Var(v=0.1855, grad=0.0000), Var(v=0.1091, grad=0.0000), Var(v=-0.1219, grad=0.0000), Var(v=0.1703, grad=0.0000), Var(v=0.0705, grad=0.0000), Var(v=-0.1667, grad=0.0000), Var(v=-0.0251, grad=0.0000), Var(v=0.0696, grad=0.0000), Var(v=-0.0177, grad=0.0000), Var(v=0.1952, grad=0.0000), Var(v=-0.0459, grad=0.0000), Var(v=0.0701, grad=0.0000), Var(v=-0.0146, grad=0.0000), Var(v=0.0065, grad=0.0000), Var(v=-0.0872, grad=0.0000), Var(v=0.0299, grad=0.0000), Var(v=-0.0637, grad=0.0000), Var(v=0.1409, grad=0.0000), Var(v=-0.0027, grad=0.0000), Var(v=-0.0514, grad=0.0000), Var(v=-0.0065, grad=0.0000), Var(v=0.0320, grad=0.0000), Var(v=0.0069, grad=0.0000), Var(v=0.1248, grad=0.0000), Var(v=0.0422, grad=0.0000)], [Var(v=0.0057, grad=0.0000), Var(v=0.0248, grad=0.0000), Var(v=0.0107, grad=0.0000), Var(v=0.0384, grad=0.0000), Var(v=-0.0477, grad=0.0000), Var(v=0.0367, grad=0.0000), Var(v=-0.0550, grad=0.0000), Var(v=-0.0199, grad=0.0000), Var(v=0.0632, grad=0.0000), Var(v=-0.0615, grad=0.0000), Var(v=0.2980, grad=0.0000), Var(v=0.0306, grad=0.0000), Var(v=0.0651, grad=0.0000), Var(v=0.0323, grad=0.0000), Var(v=-0.1422, grad=0.0000), Var(v=0.0082, grad=0.0000), Var(v=-0.0366, grad=0.0000), Var(v=-0.0514, grad=0.0000), Var(v=0.0461, grad=0.0000), Var(v=-0.1887, grad=0.0000), Var(v=0.1745, grad=0.0000), Var(v=0.0084, grad=0.0000), Var(v=0.0754, grad=0.0000), Var(v=-0.0049, grad=0.0000), Var(v=0.0381, grad=0.0000), Var(v=0.0381, grad=0.0000), Var(v=0.0012, grad=0.0000), Var(v=0.0116, grad=0.0000), Var(v=0.0578, grad=0.0000), Var(v=0.0603, grad=0.0000), Var(v=-0.1194, grad=0.0000), Var(v=0.0383, grad=0.0000), Var(v=-0.0976, grad=0.0000), Var(v=0.0735, grad=0.0000), Var(v=0.1229, grad=0.0000), Var(v=0.1167, grad=0.0000), Var(v=0.1091, grad=0.0000), Var(v=0.2566, grad=0.0000), Var(v=-0.1084, grad=0.0000), Var(v=-0.0381, grad=0.0000), Var(v=0.0474, grad=0.0000), Var(v=0.0147, grad=0.0000), Var(v=-0.1367, grad=0.0000), Var(v=-0.2323, grad=0.0000), Var(v=-0.1797, grad=0.0000), Var(v=-0.0834, grad=0.0000), Var(v=-0.1684, grad=0.0000), Var(v=0.0569, grad=0.0000), Var(v=-0.1084, grad=0.0000), Var(v=0.0430, grad=0.0000)], [Var(v=-0.0751, grad=0.0000), Var(v=-0.1447, grad=0.0000), Var(v=-0.0073, grad=0.0000), Var(v=-0.0642, grad=0.0000), Var(v=0.0433, grad=0.0000), Var(v=-0.0108, grad=0.0000), Var(v=-0.1222, grad=0.0000), Var(v=-0.1234, grad=0.0000), Var(v=0.0022, grad=0.0000), Var(v=-0.0014, grad=0.0000), Var(v=-0.0580, grad=0.0000), Var(v=0.1008, grad=0.0000), Var(v=0.1057, grad=0.0000), Var(v=0.0080, grad=0.0000), Var(v=0.0832, grad=0.0000), Var(v=0.1012, grad=0.0000), Var(v=0.1572, grad=0.0000), Var(v=0.1105, grad=0.0000), Var(v=-0.0929, grad=0.0000), Var(v=-0.1890, grad=0.0000), Var(v=0.0025, grad=0.0000), Var(v=0.0603, grad=0.0000), Var(v=0.0637, grad=0.0000), Var(v=0.0038, grad=0.0000), Var(v=-0.0269, grad=0.0000), Var(v=0.0720, grad=0.0000), Var(v=-0.0441, grad=0.0000), Var(v=0.0124, grad=0.0000), Var(v=0.1849, grad=0.0000), Var(v=-0.1361, grad=0.0000), Var(v=0.1329, grad=0.0000), Var(v=0.0142, grad=0.0000), Var(v=0.0642, grad=0.0000), Var(v=0.0748, grad=0.0000), Var(v=0.1579, grad=0.0000), Var(v=-0.1302, grad=0.0000), Var(v=-0.1311, grad=0.0000), Var(v=-0.1398, grad=0.0000), Var(v=-0.0290, grad=0.0000), Var(v=-0.1168, grad=0.0000), Var(v=0.0117, grad=0.0000), Var(v=0.0666, grad=0.0000), Var(v=0.0380, grad=0.0000), Var(v=-0.0075, grad=0.0000), Var(v=0.1964, grad=0.0000), Var(v=-0.0593, grad=0.0000), Var(v=0.0322, grad=0.0000), Var(v=-0.0297, grad=0.0000), Var(v=-0.0386, grad=0.0000), Var(v=-0.1048, grad=0.0000)], [Var(v=0.0062, grad=0.0000), Var(v=0.0172, grad=0.0000), Var(v=-0.1239, grad=0.0000), Var(v=-0.1141, grad=0.0000), Var(v=-0.0567, grad=0.0000), Var(v=0.0708, grad=0.0000), Var(v=-0.0770, grad=0.0000), Var(v=0.0309, grad=0.0000), Var(v=-0.0623, grad=0.0000), Var(v=-0.0694, grad=0.0000), Var(v=-0.0527, grad=0.0000), Var(v=0.2339, grad=0.0000), Var(v=-0.0478, grad=0.0000), Var(v=0.1227, grad=0.0000), Var(v=-0.0479, grad=0.0000), Var(v=0.0678, grad=0.0000), Var(v=0.0184, grad=0.0000), Var(v=0.0870, grad=0.0000), Var(v=0.0646, grad=0.0000), Var(v=-0.0389, grad=0.0000), Var(v=0.1318, grad=0.0000), Var(v=0.0170, grad=0.0000), Var(v=-0.1355, grad=0.0000), Var(v=0.0244, grad=0.0000), Var(v=-0.1437, grad=0.0000), Var(v=0.0807, grad=0.0000), Var(v=0.1893, grad=0.0000), Var(v=-0.0117, grad=0.0000), Var(v=0.1870, grad=0.0000), Var(v=-0.0508, grad=0.0000), Var(v=0.1005, grad=0.0000), Var(v=0.0123, grad=0.0000), Var(v=-0.0917, grad=0.0000), Var(v=-0.0310, grad=0.0000), Var(v=-0.1051, grad=0.0000), Var(v=-0.0282, grad=0.0000), Var(v=-0.0476, grad=0.0000), Var(v=-0.1012, grad=0.0000), Var(v=-0.0430, grad=0.0000), Var(v=0.1319, grad=0.0000), Var(v=-0.1419, grad=0.0000), Var(v=-0.0234, grad=0.0000), Var(v=-0.0873, grad=0.0000), Var(v=-0.2287, grad=0.0000), Var(v=-0.0418, grad=0.0000), Var(v=-0.1039, grad=0.0000), Var(v=-0.0303, grad=0.0000), Var(v=0.1647, grad=0.0000), Var(v=0.1217, grad=0.0000), Var(v=0.0355, grad=0.0000)], [Var(v=0.0647, grad=0.0000), Var(v=-0.1599, grad=0.0000), Var(v=-0.0950, grad=0.0000), Var(v=0.2806, grad=0.0000), Var(v=0.0129, grad=0.0000), Var(v=0.0717, grad=0.0000), Var(v=-0.0844, grad=0.0000), Var(v=0.0156, grad=0.0000), Var(v=-0.0228, grad=0.0000), Var(v=-0.1126, grad=0.0000), Var(v=-0.0351, grad=0.0000), Var(v=0.0639, grad=0.0000), Var(v=-0.1130, grad=0.0000), Var(v=0.0133, grad=0.0000), Var(v=0.0523, grad=0.0000), Var(v=0.1391, grad=0.0000), Var(v=-0.0877, grad=0.0000), Var(v=0.0210, grad=0.0000), Var(v=0.0823, grad=0.0000), Var(v=-0.0043, grad=0.0000), Var(v=0.2194, grad=0.0000), Var(v=-0.1731, grad=0.0000), Var(v=-0.1581, grad=0.0000), Var(v=0.2450, grad=0.0000), Var(v=0.2225, grad=0.0000), Var(v=-0.1786, grad=0.0000), Var(v=-0.0235, grad=0.0000), Var(v=0.0089, grad=0.0000), Var(v=-0.1286, grad=0.0000), Var(v=0.1214, grad=0.0000), Var(v=0.0521, grad=0.0000), Var(v=-0.0586, grad=0.0000), Var(v=-0.2047, grad=0.0000), Var(v=-0.1329, grad=0.0000), Var(v=-0.0101, grad=0.0000), Var(v=0.0148, grad=0.0000), Var(v=-0.0350, grad=0.0000), Var(v=-0.1404, grad=0.0000), Var(v=-0.0067, grad=0.0000), Var(v=0.0258, grad=0.0000), Var(v=-0.1773, grad=0.0000), Var(v=-0.0213, grad=0.0000), Var(v=-0.1613, grad=0.0000), Var(v=-0.0505, grad=0.0000), Var(v=0.0177, grad=0.0000), Var(v=-0.0709, grad=0.0000), Var(v=0.1862, grad=0.0000), Var(v=0.0474, grad=0.0000), Var(v=-0.0482, grad=0.0000), Var(v=0.0575, grad=0.0000)], [Var(v=-0.0890, grad=0.0000), Var(v=-0.0568, grad=0.0000), Var(v=0.1987, grad=0.0000), Var(v=-0.0882, grad=0.0000), Var(v=0.2957, grad=0.0000), Var(v=-0.0192, grad=0.0000), Var(v=-0.0187, grad=0.0000), Var(v=0.1327, grad=0.0000), Var(v=0.0481, grad=0.0000), Var(v=0.1176, grad=0.0000), Var(v=0.0335, grad=0.0000), Var(v=0.0583, grad=0.0000), Var(v=-0.0015, grad=0.0000), Var(v=0.1141, grad=0.0000), Var(v=0.1654, grad=0.0000), Var(v=0.0384, grad=0.0000), Var(v=-0.0770, grad=0.0000), Var(v=0.0834, grad=0.0000), Var(v=0.0035, grad=0.0000), Var(v=0.1153, grad=0.0000), Var(v=0.1123, grad=0.0000), Var(v=-0.1115, grad=0.0000), Var(v=0.1158, grad=0.0000), Var(v=0.0525, grad=0.0000), Var(v=0.0435, grad=0.0000), Var(v=-0.0648, grad=0.0000), Var(v=-0.1073, grad=0.0000), Var(v=0.0989, grad=0.0000), Var(v=-0.0508, grad=0.0000), Var(v=0.0546, grad=0.0000), Var(v=-0.0465, grad=0.0000), Var(v=0.1080, grad=0.0000), Var(v=-0.0102, grad=0.0000), Var(v=-0.0506, grad=0.0000), Var(v=0.2166, grad=0.0000), Var(v=-0.2259, grad=0.0000), Var(v=-0.0725, grad=0.0000), Var(v=0.1624, grad=0.0000), Var(v=0.0756, grad=0.0000), Var(v=0.1875, grad=0.0000), Var(v=0.1553, grad=0.0000), Var(v=0.0359, grad=0.0000), Var(v=-0.0051, grad=0.0000), Var(v=-0.0204, grad=0.0000), Var(v=0.2061, grad=0.0000), Var(v=0.0763, grad=0.0000), Var(v=-0.0789, grad=0.0000), Var(v=0.0168, grad=0.0000), Var(v=0.1458, grad=0.0000), Var(v=0.0863, grad=0.0000)], [Var(v=0.0402, grad=0.0000), Var(v=-0.1741, grad=0.0000), Var(v=0.2200, grad=0.0000), Var(v=-0.0714, grad=0.0000), Var(v=0.1747, grad=0.0000), Var(v=-0.0945, grad=0.0000), Var(v=-0.0320, grad=0.0000), Var(v=0.0208, grad=0.0000), Var(v=-0.2031, grad=0.0000), Var(v=-0.0167, grad=0.0000), Var(v=-0.0396, grad=0.0000), Var(v=-0.1332, grad=0.0000), Var(v=0.0995, grad=0.0000), Var(v=0.0014, grad=0.0000), Var(v=-0.0312, grad=0.0000), Var(v=0.0749, grad=0.0000), Var(v=-0.0454, grad=0.0000), Var(v=0.0624, grad=0.0000), Var(v=-0.0307, grad=0.0000), Var(v=-0.1123, grad=0.0000), Var(v=-0.1026, grad=0.0000), Var(v=0.0255, grad=0.0000), Var(v=-0.0655, grad=0.0000), Var(v=0.0392, grad=0.0000), Var(v=0.0130, grad=0.0000), Var(v=0.0235, grad=0.0000), Var(v=0.1216, grad=0.0000), Var(v=0.0932, grad=0.0000), Var(v=-0.0805, grad=0.0000), Var(v=0.0634, grad=0.0000), Var(v=-0.0422, grad=0.0000), Var(v=-0.0873, grad=0.0000), Var(v=-0.0807, grad=0.0000), Var(v=-0.0553, grad=0.0000), Var(v=-0.0396, grad=0.0000), Var(v=0.1309, grad=0.0000), Var(v=0.0513, grad=0.0000), Var(v=-0.0174, grad=0.0000), Var(v=0.0054, grad=0.0000), Var(v=-0.0772, grad=0.0000), Var(v=0.1448, grad=0.0000), Var(v=-0.0170, grad=0.0000), Var(v=0.0313, grad=0.0000), Var(v=-0.0897, grad=0.0000), Var(v=-0.1015, grad=0.0000), Var(v=0.0195, grad=0.0000), Var(v=0.0783, grad=0.0000), Var(v=-0.0480, grad=0.0000), Var(v=0.1009, grad=0.0000), Var(v=0.1638, grad=0.0000)], [Var(v=0.0099, grad=0.0000), Var(v=-0.0219, grad=0.0000), Var(v=0.0636, grad=0.0000), Var(v=0.1014, grad=0.0000), Var(v=0.1691, grad=0.0000), Var(v=0.1277, grad=0.0000), Var(v=-0.0640, grad=0.0000), Var(v=0.1810, grad=0.0000), Var(v=0.0287, grad=0.0000), Var(v=-0.0086, grad=0.0000), Var(v=0.0719, grad=0.0000), Var(v=0.0660, grad=0.0000), Var(v=-0.0406, grad=0.0000), Var(v=-0.1231, grad=0.0000), Var(v=-0.2182, grad=0.0000), Var(v=-0.0334, grad=0.0000), Var(v=0.0355, grad=0.0000), Var(v=0.0074, grad=0.0000), Var(v=-0.0927, grad=0.0000), Var(v=0.0780, grad=0.0000), Var(v=0.0347, grad=0.0000), Var(v=-0.0427, grad=0.0000), Var(v=-0.0885, grad=0.0000), Var(v=0.0598, grad=0.0000), Var(v=-0.0196, grad=0.0000), Var(v=-0.0161, grad=0.0000), Var(v=-0.0651, grad=0.0000), Var(v=0.0966, grad=0.0000), Var(v=0.0646, grad=0.0000), Var(v=-0.0792, grad=0.0000), Var(v=-0.0412, grad=0.0000), Var(v=0.0809, grad=0.0000), Var(v=-0.1047, grad=0.0000), Var(v=-0.0659, grad=0.0000), Var(v=-0.0394, grad=0.0000), Var(v=-0.1757, grad=0.0000), Var(v=-0.1154, grad=0.0000), Var(v=0.2434, grad=0.0000), Var(v=-0.1112, grad=0.0000), Var(v=-0.1349, grad=0.0000), Var(v=0.0237, grad=0.0000), Var(v=0.1255, grad=0.0000), Var(v=-0.0462, grad=0.0000), Var(v=-0.0361, grad=0.0000), Var(v=0.0427, grad=0.0000), Var(v=0.1115, grad=0.0000), Var(v=0.0077, grad=0.0000), Var(v=0.1645, grad=0.0000), Var(v=-0.0115, grad=0.0000), Var(v=0.1084, grad=0.0000)], [Var(v=0.0265, grad=0.0000), Var(v=-0.0764, grad=0.0000), Var(v=0.1039, grad=0.0000), Var(v=0.0800, grad=0.0000), Var(v=-0.0909, grad=0.0000), Var(v=0.0961, grad=0.0000), Var(v=0.0087, grad=0.0000), Var(v=-0.0468, grad=0.0000), Var(v=0.0155, grad=0.0000), Var(v=-0.1366, grad=0.0000), Var(v=-0.0028, grad=0.0000), Var(v=0.1466, grad=0.0000), Var(v=0.0234, grad=0.0000), Var(v=-0.0009, grad=0.0000), Var(v=0.1369, grad=0.0000), Var(v=0.0432, grad=0.0000), Var(v=-0.0766, grad=0.0000), Var(v=0.0363, grad=0.0000), Var(v=-0.1916, grad=0.0000), Var(v=0.0918, grad=0.0000), Var(v=0.1669, grad=0.0000), Var(v=-0.0006, grad=0.0000), Var(v=0.0552, grad=0.0000), Var(v=0.1196, grad=0.0000), Var(v=0.0988, grad=0.0000), Var(v=-0.0066, grad=0.0000), Var(v=0.1417, grad=0.0000), Var(v=0.0453, grad=0.0000), Var(v=-0.0482, grad=0.0000), Var(v=0.0060, grad=0.0000), Var(v=0.0487, grad=0.0000), Var(v=0.1276, grad=0.0000), Var(v=0.0479, grad=0.0000), Var(v=-0.1868, grad=0.0000), Var(v=-0.0711, grad=0.0000), Var(v=-0.0499, grad=0.0000), Var(v=0.0620, grad=0.0000), Var(v=0.1073, grad=0.0000), Var(v=0.0736, grad=0.0000), Var(v=-0.0967, grad=0.0000), Var(v=0.0454, grad=0.0000), Var(v=-0.0351, grad=0.0000), Var(v=-0.0348, grad=0.0000), Var(v=0.0659, grad=0.0000), Var(v=0.1094, grad=0.0000), Var(v=-0.0914, grad=0.0000), Var(v=-0.0199, grad=0.0000), Var(v=-0.0516, grad=0.0000), Var(v=0.1805, grad=0.0000), Var(v=-0.0691, grad=0.0000)], [Var(v=0.1556, grad=0.0000), Var(v=-0.0865, grad=0.0000), Var(v=0.1881, grad=0.0000), Var(v=0.0910, grad=0.0000), Var(v=0.1506, grad=0.0000), Var(v=-0.0390, grad=0.0000), Var(v=0.1919, grad=0.0000), Var(v=-0.0346, grad=0.0000), Var(v=0.0441, grad=0.0000), Var(v=0.1341, grad=0.0000), Var(v=-0.0455, grad=0.0000), Var(v=0.0962, grad=0.0000), Var(v=0.1435, grad=0.0000), Var(v=-0.0626, grad=0.0000), Var(v=0.1726, grad=0.0000), Var(v=-0.0477, grad=0.0000), Var(v=-0.0600, grad=0.0000), Var(v=-0.0566, grad=0.0000), Var(v=-0.1440, grad=0.0000), Var(v=-0.0152, grad=0.0000), Var(v=0.0236, grad=0.0000), Var(v=0.0203, grad=0.0000), Var(v=0.0002, grad=0.0000), Var(v=0.0321, grad=0.0000), Var(v=0.0714, grad=0.0000), Var(v=0.1854, grad=0.0000), Var(v=-0.0724, grad=0.0000), Var(v=-0.0061, grad=0.0000), Var(v=0.0041, grad=0.0000), Var(v=-0.0423, grad=0.0000), Var(v=0.0547, grad=0.0000), Var(v=-0.0370, grad=0.0000), Var(v=-0.1662, grad=0.0000), Var(v=-0.0346, grad=0.0000), Var(v=0.0334, grad=0.0000), Var(v=0.1343, grad=0.0000), Var(v=-0.0050, grad=0.0000), Var(v=0.0345, grad=0.0000), Var(v=-0.0523, grad=0.0000), Var(v=0.0351, grad=0.0000), Var(v=-0.1148, grad=0.0000), Var(v=0.0793, grad=0.0000), Var(v=-0.0770, grad=0.0000), Var(v=0.0134, grad=0.0000), Var(v=-0.0809, grad=0.0000), Var(v=-0.0129, grad=0.0000), Var(v=0.0824, grad=0.0000), Var(v=0.0730, grad=0.0000), Var(v=0.0825, grad=0.0000), Var(v=-0.1668, grad=0.0000)], [Var(v=-0.0361, grad=0.0000), Var(v=0.1680, grad=0.0000), Var(v=0.0849, grad=0.0000), Var(v=0.1125, grad=0.0000), Var(v=0.0428, grad=0.0000), Var(v=0.0155, grad=0.0000), Var(v=-0.1075, grad=0.0000), Var(v=0.0587, grad=0.0000), Var(v=0.0350, grad=0.0000), Var(v=-0.1902, grad=0.0000), Var(v=-0.0907, grad=0.0000), Var(v=0.1062, grad=0.0000), Var(v=0.1017, grad=0.0000), Var(v=0.1584, grad=0.0000), Var(v=0.1842, grad=0.0000), Var(v=-0.0574, grad=0.0000), Var(v=0.0739, grad=0.0000), Var(v=-0.0620, grad=0.0000), Var(v=0.0018, grad=0.0000), Var(v=0.0228, grad=0.0000), Var(v=0.1875, grad=0.0000), Var(v=0.0489, grad=0.0000), Var(v=-0.0916, grad=0.0000), Var(v=-0.1610, grad=0.0000), Var(v=-0.0331, grad=0.0000), Var(v=0.0474, grad=0.0000), Var(v=-0.0778, grad=0.0000), Var(v=0.1146, grad=0.0000), Var(v=-0.1427, grad=0.0000), Var(v=-0.0907, grad=0.0000), Var(v=-0.0958, grad=0.0000), Var(v=0.0103, grad=0.0000), Var(v=0.2055, grad=0.0000), Var(v=0.0670, grad=0.0000), Var(v=-0.0407, grad=0.0000), Var(v=0.0959, grad=0.0000), Var(v=-0.0991, grad=0.0000), Var(v=-0.2445, grad=0.0000), Var(v=0.0026, grad=0.0000), Var(v=-0.0531, grad=0.0000), Var(v=0.0461, grad=0.0000), Var(v=-0.0258, grad=0.0000), Var(v=0.2315, grad=0.0000), Var(v=-0.1574, grad=0.0000), Var(v=0.0285, grad=0.0000), Var(v=-0.1019, grad=0.0000), Var(v=-0.0202, grad=0.0000), Var(v=0.0473, grad=0.0000), Var(v=0.1396, grad=0.0000), Var(v=0.1898, grad=0.0000)], [Var(v=-0.1982, grad=0.0000), Var(v=-0.1530, grad=0.0000), Var(v=0.0704, grad=0.0000), Var(v=-0.0571, grad=0.0000), Var(v=-0.0524, grad=0.0000), Var(v=0.0093, grad=0.0000), Var(v=0.0932, grad=0.0000), Var(v=0.0400, grad=0.0000), Var(v=-0.0957, grad=0.0000), Var(v=-0.0155, grad=0.0000), Var(v=-0.2225, grad=0.0000), Var(v=-0.0515, grad=0.0000), Var(v=-0.0392, grad=0.0000), Var(v=0.1373, grad=0.0000), Var(v=-0.1083, grad=0.0000), Var(v=-0.0682, grad=0.0000), Var(v=-0.0952, grad=0.0000), Var(v=-0.0277, grad=0.0000), Var(v=-0.0418, grad=0.0000), Var(v=-0.1718, grad=0.0000), Var(v=0.1304, grad=0.0000), Var(v=-0.0868, grad=0.0000), Var(v=-0.0641, grad=0.0000), Var(v=-0.0922, grad=0.0000), Var(v=0.1182, grad=0.0000), Var(v=-0.0503, grad=0.0000), Var(v=0.0341, grad=0.0000), Var(v=0.0470, grad=0.0000), Var(v=0.0502, grad=0.0000), Var(v=0.0354, grad=0.0000), Var(v=-0.2444, grad=0.0000), Var(v=0.0509, grad=0.0000), Var(v=0.2338, grad=0.0000), Var(v=-0.0392, grad=0.0000), Var(v=-0.0359, grad=0.0000), Var(v=0.0527, grad=0.0000), Var(v=0.0606, grad=0.0000), Var(v=0.1719, grad=0.0000), Var(v=0.1762, grad=0.0000), Var(v=0.0765, grad=0.0000), Var(v=-0.0629, grad=0.0000), Var(v=-0.0862, grad=0.0000), Var(v=-0.0376, grad=0.0000), Var(v=-0.1167, grad=0.0000), Var(v=0.0595, grad=0.0000), Var(v=0.0488, grad=0.0000), Var(v=-0.1157, grad=0.0000), Var(v=0.1227, grad=0.0000), Var(v=-0.0195, grad=0.0000), Var(v=0.1057, grad=0.0000)], [Var(v=0.0610, grad=0.0000), Var(v=-0.0041, grad=0.0000), Var(v=0.0168, grad=0.0000), Var(v=-0.0189, grad=0.0000), Var(v=-0.0637, grad=0.0000), Var(v=-0.0278, grad=0.0000), Var(v=0.0074, grad=0.0000), Var(v=0.0719, grad=0.0000), Var(v=0.0422, grad=0.0000), Var(v=0.0471, grad=0.0000), Var(v=0.0104, grad=0.0000), Var(v=0.0706, grad=0.0000), Var(v=-0.0375, grad=0.0000), Var(v=-0.1832, grad=0.0000), Var(v=-0.0356, grad=0.0000), Var(v=-0.1173, grad=0.0000), Var(v=-0.0749, grad=0.0000), Var(v=-0.0329, grad=0.0000), Var(v=0.0258, grad=0.0000), Var(v=0.0041, grad=0.0000), Var(v=-0.1690, grad=0.0000), Var(v=-0.1926, grad=0.0000), Var(v=-0.0299, grad=0.0000), Var(v=0.1367, grad=0.0000), Var(v=-0.1020, grad=0.0000), Var(v=-0.1013, grad=0.0000), Var(v=0.0112, grad=0.0000), Var(v=-0.2543, grad=0.0000), Var(v=0.1303, grad=0.0000), Var(v=0.0753, grad=0.0000), Var(v=0.0784, grad=0.0000), Var(v=0.2250, grad=0.0000), Var(v=-0.0455, grad=0.0000), Var(v=0.1306, grad=0.0000), Var(v=-0.1404, grad=0.0000), Var(v=-0.1042, grad=0.0000), Var(v=-0.0129, grad=0.0000), Var(v=-0.0858, grad=0.0000), Var(v=0.1178, grad=0.0000), Var(v=-0.0633, grad=0.0000), Var(v=0.0165, grad=0.0000), Var(v=0.0232, grad=0.0000), Var(v=-0.0319, grad=0.0000), Var(v=-0.0169, grad=0.0000), Var(v=0.0258, grad=0.0000), Var(v=-0.0021, grad=0.0000), Var(v=0.2263, grad=0.0000), Var(v=0.1767, grad=0.0000), Var(v=0.0347, grad=0.0000), Var(v=-0.0040, grad=0.0000)], [Var(v=0.2022, grad=0.0000), Var(v=-0.1133, grad=0.0000), Var(v=0.0289, grad=0.0000), Var(v=0.1778, grad=0.0000), Var(v=0.1564, grad=0.0000), Var(v=-0.0443, grad=0.0000), Var(v=0.0348, grad=0.0000), Var(v=-0.0727, grad=0.0000), Var(v=0.0710, grad=0.0000), Var(v=0.0769, grad=0.0000), Var(v=0.1065, grad=0.0000), Var(v=0.1091, grad=0.0000), Var(v=-0.0620, grad=0.0000), Var(v=-0.0113, grad=0.0000), Var(v=0.0976, grad=0.0000), Var(v=0.0848, grad=0.0000), Var(v=-0.1025, grad=0.0000), Var(v=0.0336, grad=0.0000), Var(v=0.0728, grad=0.0000), Var(v=0.1174, grad=0.0000), Var(v=-0.1086, grad=0.0000), Var(v=0.0478, grad=0.0000), Var(v=0.0753, grad=0.0000), Var(v=-0.1317, grad=0.0000), Var(v=0.0476, grad=0.0000), Var(v=-0.0249, grad=0.0000), Var(v=0.1887, grad=0.0000), Var(v=0.0477, grad=0.0000), Var(v=0.0886, grad=0.0000), Var(v=-0.1248, grad=0.0000), Var(v=0.0123, grad=0.0000), Var(v=-0.1770, grad=0.0000), Var(v=-0.0644, grad=0.0000), Var(v=0.0051, grad=0.0000), Var(v=-0.1266, grad=0.0000), Var(v=0.0521, grad=0.0000), Var(v=0.0294, grad=0.0000), Var(v=0.0586, grad=0.0000), Var(v=-0.1478, grad=0.0000), Var(v=-0.0296, grad=0.0000), Var(v=-0.0422, grad=0.0000), Var(v=-0.0799, grad=0.0000), Var(v=0.1504, grad=0.0000), Var(v=-0.0066, grad=0.0000), Var(v=0.1078, grad=0.0000), Var(v=-0.0673, grad=0.0000), Var(v=-0.0114, grad=0.0000), Var(v=0.3104, grad=0.0000), Var(v=0.0142, grad=0.0000), Var(v=0.2005, grad=0.0000)]] Biases: [Var(v=-0.1354, grad=0.0000), Var(v=-0.0975, grad=0.0000), Var(v=-0.0641, grad=0.0000), Var(v=-0.0009, grad=0.0000), Var(v=-0.0881, grad=0.0000), Var(v=-0.0002, grad=0.0000), Var(v=-0.0448, grad=0.0000), Var(v=0.0005, grad=0.0000), Var(v=-0.0314, grad=0.0000), Var(v=-0.0969, grad=0.0000), Var(v=0.0000, grad=0.0000), Var(v=-0.0003, grad=0.0000), Var(v=0.0000, grad=0.0000), Var(v=0.0004, grad=0.0000), Var(v=-0.0209, grad=0.0000), Var(v=-0.0118, grad=0.0000), Var(v=-0.0349, grad=0.0000), Var(v=0.0003, grad=0.0000), Var(v=0.0068, grad=0.0000), Var(v=-0.0093, grad=0.0000), Var(v=-0.0019, grad=0.0000), Var(v=0.0000, grad=0.0000), Var(v=0.0000, grad=0.0000), Var(v=-0.0004, grad=0.0000), Var(v=0.0660, grad=0.0000), Var(v=-0.1261, grad=0.0000), Var(v=0.0741, grad=0.0000), Var(v=-0.0009, grad=0.0000), Var(v=0.1470, grad=0.0000), Var(v=-0.1629, grad=0.0000), Var(v=0.0000, grad=0.0000), Var(v=0.0135, grad=0.0000), Var(v=0.0235, grad=0.0000), Var(v=-0.0197, grad=0.0000), Var(v=-0.0118, grad=0.0000), Var(v=-0.0005, grad=0.0000), Var(v=0.0000, grad=0.0000), Var(v=-0.0030, grad=0.0000), Var(v=0.0556, grad=0.0000), Var(v=-0.0013, grad=0.0000), Var(v=0.0851, grad=0.0000), Var(v=0.0000, grad=0.0000), Var(v=-0.0160, grad=0.0000), Var(v=0.0000, grad=0.0000), Var(v=0.0000, grad=0.0000), Var(v=0.0000, grad=0.0000), Var(v=-0.1055, grad=0.0000), Var(v=-0.0095, grad=0.0000), Var(v=-0.0012, grad=0.0000), Var(v=-0.0011, grad=0.0000)]\n",
            "Layer 2 \n",
            " Weights: [[Var(v=0.1347, grad=0.0000)], [Var(v=0.0954, grad=0.0000)], [Var(v=0.0393, grad=0.0000)], [Var(v=-0.0916, grad=0.0000)], [Var(v=0.0348, grad=0.0000)], [Var(v=0.0210, grad=0.0000)], [Var(v=0.0501, grad=0.0000)], [Var(v=0.0222, grad=0.0000)], [Var(v=0.0101, grad=0.0000)], [Var(v=0.0679, grad=0.0000)], [Var(v=-0.1647, grad=0.0000)], [Var(v=-0.0207, grad=0.0000)], [Var(v=0.0499, grad=0.0000)], [Var(v=-0.0253, grad=0.0000)], [Var(v=-0.0384, grad=0.0000)], [Var(v=-0.0010, grad=0.0000)], [Var(v=0.0036, grad=0.0000)], [Var(v=0.0195, grad=0.0000)], [Var(v=0.0161, grad=0.0000)], [Var(v=0.0106, grad=0.0000)], [Var(v=-0.1248, grad=0.0000)], [Var(v=0.0426, grad=0.0000)], [Var(v=-0.1053, grad=0.0000)], [Var(v=-0.0101, grad=0.0000)], [Var(v=0.0772, grad=0.0000)], [Var(v=0.1273, grad=0.0000)], [Var(v=0.1156, grad=0.0000)], [Var(v=-0.0841, grad=0.0000)], [Var(v=0.1916, grad=0.0000)], [Var(v=-0.1599, grad=0.0000)], [Var(v=0.1551, grad=0.0000)], [Var(v=0.0321, grad=0.0000)], [Var(v=-0.0334, grad=0.0000)], [Var(v=-0.0328, grad=0.0000)], [Var(v=0.0098, grad=0.0000)], [Var(v=-0.0542, grad=0.0000)], [Var(v=-0.0745, grad=0.0000)], [Var(v=-0.2371, grad=0.0000)], [Var(v=0.0746, grad=0.0000)], [Var(v=-0.1113, grad=0.0000)], [Var(v=-0.1047, grad=0.0000)], [Var(v=-0.1460, grad=0.0000)], [Var(v=-0.0246, grad=0.0000)], [Var(v=-0.0512, grad=0.0000)], [Var(v=-0.0711, grad=0.0000)], [Var(v=-0.0447, grad=0.0000)], [Var(v=-0.1045, grad=0.0000)], [Var(v=0.0544, grad=0.0000)], [Var(v=-0.0990, grad=0.0000)], [Var(v=-0.0767, grad=0.0000)]] Biases: [Var(v=0.0125, grad=0.0000)]\n"
          ]
        },
        {
          "output_type": "execute_result",
          "data": {
            "text/plain": [
              "[None, None, None]"
            ]
          },
          "metadata": {},
          "execution_count": 153
        }
      ],
      "source": [
        "print('Network before update:')\n",
        "[print('Layer', i, '\\n', NN[i]) for i in range(len(NN))]\n",
        "\n",
        "def parameters(network):\n",
        "  params = []\n",
        "  for layer in range(len(network)):\n",
        "    params += network[layer].parameters()\n",
        "  return params\n",
        "\n",
        "def update_parameters(params, learning_rate=0.01):\n",
        "  for p in params:\n",
        "    p.v -= learning_rate*p.grad\n",
        "\n",
        "def zero_gradients(params):\n",
        "  for p in params:\n",
        "    p.grad = 0.0\n",
        "\n",
        "update_parameters(parameters(NN))\n",
        "\n",
        "print('\\nNetwork after update:')\n",
        "[print('Layer', i, '\\n', NN[i]) for i in range(len(NN))]\n",
        "\n",
        "zero_gradients(parameters(NN))\n",
        "\n",
        "print('\\nNetwork after zeroing gradients:')\n",
        "[print('Layer', i, '\\n', NN[i]) for i in range(len(NN))]"
      ]
    },
    {
      "cell_type": "code",
      "execution_count": 154,
      "metadata": {
        "id": "woWYpdw6FtIO"
      },
      "outputs": [],
      "source": [
        "# Initialize an arbitrary neural network\n",
        "NN = [\n",
        "    DenseLayer(1, 8, lambda x: x.relu()),\n",
        "    DenseLayer(8, 1, lambda x: x.identity())\n",
        "]\n",
        "\n",
        "# Recommended hyper-parameters for 3-D:\n",
        "#NN = [\n",
        "#    DenseLayer(3, 16, lambda x: x.relu()),\n",
        "#    DenseLayer(16, 1, lambda x: x.identity())\n",
        "#]\n",
        "\n",
        "\n",
        "### Notice that, when we switch from tanh to relu activation, we decrease the learning rate. This is due the stability of the gradients\n",
        "## of the activation functions."
      ]
    },
    {
      "cell_type": "code",
      "execution_count": 155,
      "metadata": {
        "id": "mdqaqYBVFtIR"
      },
      "outputs": [],
      "source": [
        "# Initialize training hyperparameters\n",
        "EPOCHS = 200\n",
        "LEARN_R = 2e-3"
      ]
    },
    {
      "cell_type": "code",
      "execution_count": 156,
      "metadata": {
        "colab": {
          "base_uri": "https://localhost:8080/"
        },
        "id": "5kfg76GMFtIW",
        "outputId": "cd7a35eb-98da-482e-c4e8-da8723768869",
        "scrolled": true
      },
      "outputs": [
        {
          "output_type": "stream",
          "name": "stdout",
          "text": [
            "   0 ( 0.00%) Train loss: 105.752 \t Validation loss: 106.079\n",
            "  10 ( 5.00%) Train loss: 33.158 \t Validation loss: 24.119\n",
            "  20 (10.00%) Train loss: 13.852 \t Validation loss: 10.626\n",
            "  30 (15.00%) Train loss: 13.287 \t Validation loss: 10.132\n",
            "  40 (20.00%) Train loss: 12.878 \t Validation loss: 9.704\n",
            "  50 (25.00%) Train loss: 12.674 \t Validation loss: 9.459\n",
            "  60 (30.00%) Train loss: 12.499 \t Validation loss: 9.229\n",
            "  70 (35.00%) Train loss: 12.349 \t Validation loss: 9.051\n",
            "  80 (40.00%) Train loss: 12.220 \t Validation loss: 8.920\n",
            "  90 (45.00%) Train loss: 12.115 \t Validation loss: 8.857\n",
            " 100 (50.00%) Train loss: 12.013 \t Validation loss: 8.865\n",
            " 110 (55.00%) Train loss: 11.952 \t Validation loss: 8.887\n",
            " 120 (60.00%) Train loss: 11.922 \t Validation loss: 8.900\n",
            " 130 (65.00%) Train loss: 11.907 \t Validation loss: 8.915\n",
            " 140 (70.00%) Train loss: 11.900 \t Validation loss: 8.931\n",
            " 150 (75.00%) Train loss: 11.897 \t Validation loss: 8.942\n",
            " 160 (80.00%) Train loss: 11.895 \t Validation loss: 8.950\n",
            " 170 (85.00%) Train loss: 11.894 \t Validation loss: 8.956\n",
            " 180 (90.00%) Train loss: 11.894 \t Validation loss: 8.961\n",
            " 190 (95.00%) Train loss: 11.893 \t Validation loss: 8.963\n"
          ]
        }
      ],
      "source": [
        "train_loss = []\n",
        "val_loss = []\n",
        "\n",
        "for e in range(EPOCHS):\n",
        "\n",
        "    # Forward pass and loss computation\n",
        "    Loss = squared_loss(y_train, forward(x_train, NN))\n",
        "\n",
        "    # Backward pass\n",
        "    Loss.backward()\n",
        "\n",
        "    # gradient descent update\n",
        "    update_parameters(parameters(NN), LEARN_R)\n",
        "    zero_gradients(parameters(NN))\n",
        "\n",
        "    # Training loss\n",
        "    train_loss.append(Loss.v)\n",
        "\n",
        "    # Validation\n",
        "    Loss_validation = squared_loss(y_validation, forward(x_validation, NN))\n",
        "    val_loss.append(Loss_validation.v)\n",
        "\n",
        "    if e%10==0:\n",
        "        print(\"{:4d}\".format(e),\n",
        "              \"({:5.2f}%)\".format(e/EPOCHS*100),\n",
        "              \"Train loss: {:4.3f} \\t Validation loss: {:4.3f}\".format(train_loss[-1], val_loss[-1]))\n",
        "\n"
      ]
    },
    {
      "cell_type": "code",
      "execution_count": 157,
      "metadata": {
        "colab": {
          "base_uri": "https://localhost:8080/",
          "height": 430
        },
        "id": "VetyRWFwFtIY",
        "outputId": "a345be7e-a447-48aa-cc75-10f0b3bc2f87"
      },
      "outputs": [
        {
          "output_type": "display_data",
          "data": {
            "text/plain": [
              "<Figure size 640x480 with 1 Axes>"
            ],
            "image/png": "[encoded data removed]"
          },
          "metadata": {}
        }
      ],
      "source": [
        "plt.plot(range(len(train_loss)), train_loss);\n",
        "plt.plot(range(len(val_loss)), val_loss);"
      ]
    },
    {
      "cell_type": "markdown",
      "metadata": {
        "id": "8OgmIrM9FtIb"
      },
      "source": [
        "# Testing\n",
        "\n",
        "We have kept the calculation of the test error separate in order to emphasize that you should not use the test set in optimization."
      ]
    },
    {
      "cell_type": "code",
      "execution_count": 158,
      "metadata": {
        "id": "HmNi7S-vFtIc"
      },
      "outputs": [],
      "source": [
        "output_test = forward(x_test, NN)"
      ]
    },
    {
      "cell_type": "code",
      "execution_count": 159,
      "metadata": {
        "colab": {
          "base_uri": "https://localhost:8080/",
          "height": 505
        },
        "id": "7mmJOTSEFtIf",
        "outputId": "cb8fc2ad-95fb-4a44-f0d2-1a9e0742a4e4"
      },
      "outputs": [
        {
          "output_type": "stream",
          "name": "stdout",
          "text": [
            "Test loss:  9.789\n"
          ]
        },
        {
          "output_type": "display_data",
          "data": {
            "text/plain": [
              "<Figure size 640x480 with 1 Axes>"
            ],
            "image/png": "[encoded data removed]"
          },
          "metadata": {}
        }
      ],
      "source": [
        "y_test_np = Var_to_nparray(y_test)\n",
        "plt.scatter(y_test_np, Var_to_nparray(output_test));\n",
        "plt.plot([np.min(y_test_np), np.max(y_test_np)], [np.min(y_test_np), np.max(y_test_np)], color='k');\n",
        "plt.xlabel(\"y\");\n",
        "plt.ylabel(\"$\\hat{y}$\");\n",
        "plt.title(\"Model prediction vs real in the test set, the close to the line the better\")\n",
        "plt.grid(True);\n",
        "plt.axis('equal');\n",
        "plt.tight_layout();\n",
        "\n",
        "Loss_test = squared_loss(y_test, forward(x_test, NN))\n",
        "\n",
        "print(\"Test loss:  {:4.3f}\".format(Loss_test.v))"
      ]
    },
    {
      "cell_type": "code",
      "execution_count": 160,
      "metadata": {
        "colab": {
          "base_uri": "https://localhost:8080/",
          "height": 449
        },
        "id": "ODi0WlmQFtIh",
        "outputId": "d9e67e07-2452-46a7-dc78-c657f866bc67"
      },
      "outputs": [
        {
          "output_type": "display_data",
          "data": {
            "text/plain": [
              "<Figure size 640x480 with 1 Axes>"
            ],
            "image/png": "[encoded data removed]"
          },
          "metadata": {}
        }
      ],
      "source": [
        "x_test_np = Var_to_nparray(x_test)\n",
        "x_train_np = Var_to_nparray(x_train)\n",
        "y_train_np = Var_to_nparray(y_train)\n",
        "if D1:\n",
        "    plt.scatter(x_train_np, y_train_np, label=\"train data\");\n",
        "    plt.scatter(x_test_np, Var_to_nparray(output_test), label=\"test prediction\");\n",
        "    plt.scatter(x_test_np, y_test_np, label=\"test data\");\n",
        "    plt.legend();\n",
        "    plt.xlabel(\"x\");\n",
        "    plt.ylabel(\"y\");\n",
        "else:\n",
        "    plt.scatter(x_train_np[:,1], y_train, label=\"train data\");\n",
        "    plt.scatter(x_test_np[:,1], Var_to_nparray(output_test), label=\"test data prediction\");\n",
        "    plt.scatter(x_test_np[:,1], y_test_np, label=\"test data\");\n",
        "    plt.legend();\n",
        "    plt.xlabel(\"x\");\n",
        "    plt.ylabel(\"y\");"
      ]
    },
    {
      "cell_type": "markdown",
      "metadata": {
        "id": "zTBAmjsAFtIk"
      },
      "source": [
        "## Exercise l) Show overfitting, underfitting and just right fitting\n",
        "\n",
        "Vary the architecture and other things to show clear signs of overfitting (=training loss significantly lower than test loss) and underfitting (=not fitting enoung to training data so that test performance is also hurt).\n",
        "\n",
        "See also if you can get a good compromise which leads to a low validation loss.\n",
        "\n",
        "For this problem do you see any big difference between validation and test loss? The answer here will probably be no. Discuss cases where it is important to keep the two separate.\n",
        "\n",
        "_Insert written answer here._\n"
      ]
    },
    {
      "cell_type": "code",
      "execution_count": null,
      "metadata": {
        "id": "tQZCn2dxFtIl"
      },
      "outputs": [],
      "source": [
        "# Insert your code for getting overfitting, underfitting and just right fitting"
      ]
    },
    {
      "cell_type": "markdown",
      "metadata": {
        "id": "fYPZP-eTFtIo"
      },
      "source": [
        "# Next steps - classification\n",
        "\n",
        "It is straight forward to extend what we have done to classification.\n",
        "\n",
        "For numerical stability it is better to make softmax and cross-entropy as one function so we write the cross entropy loss as a function of the logits we talked about last week.\n",
        "\n",
        "Next week we will see how to perform classification in PyTorch."
      ]
    },
    {
      "cell_type": "markdown",
      "metadata": {
        "id": "qsVPul3QFtIo"
      },
      "source": [
        "## Exercise m) optional - Implement backpropagation for classification\n",
        "\n",
        "Should be possible with very few lines of code. :-)"
      ]
    },
    {
      "cell_type": "code",
      "execution_count": null,
      "metadata": {
        "id": "oC8QrI2tFtIp"
      },
      "outputs": [],
      "source": [
        "# Just add code."
      ]
    },
    {
      "cell_type": "markdown",
      "metadata": {
        "id": "APqhJv3tta1O"
      },
      "source": [
        "## Exercise n) optional - Introduce a NeuralNetwork class\n",
        "\n",
        "The functions we applied on the neural network (parameters, update_parameters and zero_gradients) can more naturally be included as methods in a NeuralNetwork class. Make such a class and modify the code to use it."
      ]
    },
    {
      "cell_type": "code",
      "execution_count": null,
      "metadata": {
        "id": "Dqfnor1ouMLq"
      },
      "outputs": [],
      "source": [
        "# just add some code"
      ]
    }
  ],
  "metadata": {
    "anaconda-cloud": {},
    "colab": {
      "collapsed_sections": [
        "U4057_ljNvWB",
        "p_8n_SKnIW2F",
        "oLrGJytZFtGm",
        "jpIZPBpNI0pO",
        "_79HOAXrFtHK",
        "mqeyab9qFtGs",
        "-XyXBD37FtHk",
        "SrwSJ2UWFtHu",
        "zTBAmjsAFtIk",
        "qsVPul3QFtIo",
        "APqhJv3tta1O"
      ],
      "name": "2.1-EXE-FNN-AutoDif-Nanograd.ipynb",
      "provenance": []
    },
    "kernelspec": {
      "display_name": "Python 3",
      "language": "python",
      "name": "python3"
    },
    "language_info": {
      "codemirror_mode": {
        "name": "ipython",
        "version": 3
      },
      "file_extension": ".py",
      "mimetype": "text/x-python",
      "name": "python",
      "nbconvert_exporter": "python",
      "pygments_lexer": "ipython3",
      "version": "3.9.12"
    }
  },
  "nbformat": 4,
  "nbformat_minor": 0
}